{
 "cells": [
  {
   "cell_type": "markdown",
   "id": "2326763b",
   "metadata": {},
   "source": [
    "# Chem277B: Machine Learning Algorithms\n",
    "\n",
    "## Homework assignment #2: Simulated Annealing"
   ]
  },
  {
   "cell_type": "code",
   "execution_count": 184,
   "id": "527c40ef",
   "metadata": {},
   "outputs": [],
   "source": [
    "import numpy as np\n",
    "from numpy import linalg as LA\n",
    "import time\n",
    "from pylab import *\n",
    "import matplotlib.pyplot as plt\n",
    "import math\n",
    "import scipy\n",
    "import pandas as pd\n",
    "import numba"
   ]
  },
  {
   "cell_type": "markdown",
   "id": "8013502f",
   "metadata": {},
   "source": [
    "### 1. Classical simulated annealing."
   ]
  },
  {
   "cell_type": "markdown",
   "id": "456016ee",
   "metadata": {},
   "source": [
    "(a) The cooling schedule can be calculated using the linear cooling equation T(t+1) = T(t) - $\\alpha$.\n",
    "\n",
    "T(initial) = 3000 K. $\\alpha$ = 0.5.\n",
    "\n",
    "When T(end) = 30 K, time t = [T(initial) - T(end)] / $\\alpha$ = 5940.\n",
    "\n",
    "When T(end) = 10 K, time t = [T(initial) - T(end)] / $\\alpha$ = 5980.\n",
    "\n",
    "The tests were repeated 3 times for each linear cooling condition and the results are summarized below:\n",
    "\n",
    "Schwefel Optimization Eval | Linear Cooling 1 (30K) | Linear Cooling 2 (10K)\n",
    "--- | --- | ---\n",
    "Test 1 | 4753.09 | 4363.71\n",
    "Test 2 | 4562.07 | 4691.77\n",
    "Test 3 | 4224.17 | 4564.85\n",
    "Average | 4513.11 | 4540.11\n",
    "\n",
    "From the results there is no significant difference between the solutions when cooling to different temperatures."
   ]
  },
  {
   "cell_type": "code",
   "execution_count": 49,
   "id": "21375f34",
   "metadata": {},
   "outputs": [],
   "source": [
    "#  418.8929 * D - Sigma_0^D(x_i * (sine(sqrt(x_i))))\n",
    "def Schwefel(x):\n",
    "    dim = len(x)    #  find dimension of the input array\n",
    "    return 418.9829 * dim - np.sum(x * np.sin(np.sqrt(abs(x))))"
   ]
  },
  {
   "cell_type": "code",
   "execution_count": 50,
   "id": "9c573744",
   "metadata": {},
   "outputs": [],
   "source": [
    "# SA function from the reference\n",
    "def SA(solution,evaluation,delta,boundary,cooling_schedule):\n",
    "    \"\"\" Simulated Annealing for minimization\n",
    "    solution: np.array. Initial guess of solution\n",
    "    evaluation: func. Function to evaluate solution\n",
    "    delta: float. Magnitude of random displacement\n",
    "    boundary: array of int/float. [lowerbound,upperbound]\n",
    "    cooling_schedule: np.array. An array of tempretures for simulated annealing\n",
    "    \"\"\"\n",
    "    best_solution=solution.copy()\n",
    "    lowest_eval=evaluation(best_solution)\n",
    "    for idx,temp in enumerate(cooling_schedule):\n",
    "        if idx%1000==0:\n",
    "            print(\"%d/%d   temp:%f\"%(idx,len(cooling_schedule),temp))\n",
    "        for n in range(len(solution)):\n",
    "            trial=solution.copy()\n",
    "            trial[n]+=delta*(2*np.random.random()-1)    # Visitation function to determine random displacement\n",
    "            if trial[n]>=boundary[0] and trial[n]<=boundary[1]:\n",
    "                #fill in acceptance criterion\n",
    "                if np.exp(-(evaluation(trial) - evaluation(solution))/temp) > np.random.random():\n",
    "                    solution=trial\n",
    "                    if evaluation(solution)<lowest_eval:\n",
    "                        #update solution here\n",
    "                        best_solution = solution.copy()\n",
    "                        lowest_eval = evaluation(solution)\n",
    "    return {\"solution\":best_solution,\"evaluation\":lowest_eval}\n",
    "\n",
    "solution = np.random.random(10) * 1000 - 500   # Create a 10-d array within [-500, 500)\n",
    "linear_cooling_1 = np.linspace(3000,30,5940)\n",
    "linear_cooling_2 = np.linspace(3000,10,5980)\n",
    "boundary = np.array([-500, 500])\n",
    "delta = 0.5"
   ]
  },
  {
   "cell_type": "code",
   "execution_count": 41,
   "id": "8674dd89",
   "metadata": {
    "collapsed": true
   },
   "outputs": [
    {
     "name": "stdout",
     "output_type": "stream",
     "text": [
      "0/5940   temp:3000.000000\n",
      "1000/5940   temp:2499.915811\n",
      "2000/5940   temp:1999.831621\n",
      "3000/5940   temp:1499.747432\n",
      "4000/5940   temp:999.663243\n",
      "5000/5940   temp:499.579054\n",
      "0/5940   temp:3000.000000\n",
      "1000/5940   temp:2499.915811\n",
      "2000/5940   temp:1999.831621\n",
      "3000/5940   temp:1499.747432\n",
      "4000/5940   temp:999.663243\n",
      "5000/5940   temp:499.579054\n",
      "0/5940   temp:3000.000000\n",
      "1000/5940   temp:2499.915811\n",
      "2000/5940   temp:1999.831621\n",
      "3000/5940   temp:1499.747432\n",
      "4000/5940   temp:999.663243\n",
      "5000/5940   temp:499.579054\n",
      "[4571.614371347856, 4359.584783264582, 4269.22483744525] 4400.141330685896\n"
     ]
    }
   ],
   "source": [
    "# Test linear_cooling_1 schedule 3 times\n",
    "linear_cooling_1_results = []\n",
    "test1 = SA(solution, Schwefel, delta, boundary, linear_cooling_1)\n",
    "linear_cooling_1_results.append(test1['evaluation'])\n",
    "test2 = SA(solution, Schwefel, delta, boundary, linear_cooling_1)\n",
    "linear_cooling_1_results.append(test2['evaluation'])\n",
    "test3 = SA(solution, Schwefel, delta, boundary, linear_cooling_1)\n",
    "linear_cooling_1_results.append(test3['evaluation'])\n",
    "print(linear_cooling_1_results, np.mean(np.array(linear_cooling_1_results)))"
   ]
  },
  {
   "cell_type": "code",
   "execution_count": 42,
   "id": "587a679d",
   "metadata": {
    "collapsed": true
   },
   "outputs": [
    {
     "name": "stdout",
     "output_type": "stream",
     "text": [
      "0/5980   temp:3000.000000\n",
      "1000/5980   temp:2499.916374\n",
      "2000/5980   temp:1999.832748\n",
      "3000/5980   temp:1499.749122\n",
      "4000/5980   temp:999.665496\n",
      "5000/5980   temp:499.581870\n",
      "0/5980   temp:3000.000000\n",
      "1000/5980   temp:2499.916374\n",
      "2000/5980   temp:1999.832748\n",
      "3000/5980   temp:1499.749122\n",
      "4000/5980   temp:999.665496\n",
      "5000/5980   temp:499.581870\n",
      "0/5980   temp:3000.000000\n",
      "1000/5980   temp:2499.916374\n",
      "2000/5980   temp:1999.832748\n",
      "3000/5980   temp:1499.749122\n",
      "4000/5980   temp:999.665496\n",
      "5000/5980   temp:499.581870\n",
      "[4326.027962737391, 4730.867699724717, 4266.0160113315715] 4440.970557931226\n"
     ]
    }
   ],
   "source": [
    "# Test linear_cooling_2 schedule 3 times\n",
    "linear_cooling_2_results = []\n",
    "test1 = SA(solution, Schwefel, delta, boundary, linear_cooling_2)\n",
    "linear_cooling_2_results.append(test1['evaluation'])\n",
    "test2 = SA(solution, Schwefel, delta, boundary, linear_cooling_2)\n",
    "linear_cooling_2_results.append(test2['evaluation'])\n",
    "test3 = SA(solution, Schwefel, delta, boundary, linear_cooling_2)\n",
    "linear_cooling_2_results.append(test3['evaluation'])\n",
    "print(linear_cooling_2_results, np.mean(np.array(linear_cooling_2_results)))"
   ]
  },
  {
   "cell_type": "markdown",
   "id": "e3860411",
   "metadata": {},
   "source": [
    "(b) The tests with new log based cooling schedules were repeated 3 times for each logarithmic cooling condition and the results are summarized below:\n",
    "\n",
    "Schwefel Optimization Eval | Log Cooling 1 (3000K) | Log Cooling 2 (6000K)\n",
    "--- | --- | ---\n",
    "Test 1 | 2881.58 | 2411.84\n",
    "Test 2 | 3223.17 | 2747.75\n",
    "Test 3 | 2857.94 | 2824.95\n",
    "Average | 2987.56 | 2661.51\n",
    "\n",
    "From the results, the logarithmic cooling clearly perform better than the linear cooling because they consistently produce lower results. However, there is no significant difference between the two log cooling conditions tested."
   ]
  },
  {
   "cell_type": "code",
   "execution_count": 52,
   "id": "af1d7f8b",
   "metadata": {
    "collapsed": true
   },
   "outputs": [
    {
     "name": "stdout",
     "output_type": "stream",
     "text": [
      "[3000.         2305.86536052 2030.97747759 ...  627.87692403  627.86741004\n",
      "  627.85789792] 6000\n",
      "[6000.         3745.17810349 3070.24331475 ...  701.26121292  701.24934505\n",
      "  701.23747956] 6000\n"
     ]
    }
   ],
   "source": [
    "def log_cooling_schedule(T_SA, sigma, k_counter):\n",
    "    log_cooling_schedule = []\n",
    "    for k in range(k_counter):\n",
    "        T_K = T_SA / (1 + T_SA * math.log10(1 + k) / (3 * sigma))\n",
    "        log_cooling_schedule.append(T_K)\n",
    "    return np.array(log_cooling_schedule)\n",
    "\n",
    "log_cooling_schedule_1 = log_cooling_schedule(3000, 1000, 6000)\n",
    "print(log_cooling_schedule_1, len(log_cooling_schedule_1))\n",
    "log_cooling_schedule_2 = log_cooling_schedule(6000, 1000, 6000)\n",
    "print(log_cooling_schedule_2, len(log_cooling_schedule_2))"
   ]
  },
  {
   "cell_type": "code",
   "execution_count": 53,
   "id": "f4da9a8a",
   "metadata": {
    "collapsed": true
   },
   "outputs": [
    {
     "name": "stdout",
     "output_type": "stream",
     "text": [
      "0/6000   temp:3000.000000\n",
      "1000/6000   temp:749.918619\n",
      "2000/6000   temp:697.472137\n",
      "3000/6000   temp:670.051769\n",
      "4000/6000   temp:651.866607\n",
      "5000/6000   temp:638.425985\n"
     ]
    },
    {
     "data": {
      "text/plain": [
       "{'solution': array([-297.78805729,  465.67875849,  244.20034201,  366.98641343,\n",
       "         416.63173853,  385.89572533,   75.68436536, -174.02414711,\n",
       "          15.00723356, -215.08750031]),\n",
       " 'evaluation': 3130.474626980866}"
      ]
     },
     "execution_count": 53,
     "metadata": {},
     "output_type": "execute_result"
    }
   ],
   "source": [
    "solution = np.random.random(10) * 1000 - 500   # Create a 10-d array within [-500, 500)\n",
    "boundary = np.array([-500, 500])\n",
    "delta = 0.5\n",
    "SA(solution, Schwefel, delta, boundary, log_cooling_schedule_1)"
   ]
  },
  {
   "cell_type": "code",
   "execution_count": 57,
   "id": "1b6da743",
   "metadata": {
    "collapsed": true
   },
   "outputs": [
    {
     "name": "stdout",
     "output_type": "stream",
     "text": [
      "0/6000   temp:3000.000000\n",
      "1000/6000   temp:749.918619\n",
      "2000/6000   temp:697.472137\n",
      "3000/6000   temp:670.051769\n",
      "4000/6000   temp:651.866607\n",
      "5000/6000   temp:638.425985\n",
      "0/6000   temp:3000.000000\n",
      "1000/6000   temp:749.918619\n",
      "2000/6000   temp:697.472137\n",
      "3000/6000   temp:670.051769\n",
      "4000/6000   temp:651.866607\n",
      "5000/6000   temp:638.425985\n",
      "0/6000   temp:3000.000000\n",
      "1000/6000   temp:749.918619\n",
      "2000/6000   temp:697.472137\n",
      "3000/6000   temp:670.051769\n",
      "4000/6000   temp:651.866607\n",
      "5000/6000   temp:638.425985\n",
      "[3117.092624596807, 3189.289866835459, 3014.2122078360003] 3106.864899756089\n"
     ]
    }
   ],
   "source": [
    "# Test log_cooling_schedule_1 3 times\n",
    "log_cooling_1_results = []\n",
    "test1 = SA(solution, Schwefel, delta, boundary, log_cooling_schedule_1)\n",
    "log_cooling_1_results.append(test1['evaluation'])\n",
    "test2 = SA(solution, Schwefel, delta, boundary, log_cooling_schedule_1)\n",
    "log_cooling_1_results.append(test2['evaluation'])\n",
    "test3 = SA(solution, Schwefel, delta, boundary, log_cooling_schedule_1)\n",
    "log_cooling_1_results.append(test3['evaluation'])\n",
    "print(log_cooling_1_results, np.mean(np.array(log_cooling_1_results)))"
   ]
  },
  {
   "cell_type": "code",
   "execution_count": 58,
   "id": "ef25131e",
   "metadata": {
    "collapsed": true
   },
   "outputs": [
    {
     "name": "stdout",
     "output_type": "stream",
     "text": [
      "0/6000   temp:6000.000000\n",
      "1000/6000   temp:857.036566\n",
      "2000/6000   temp:789.214679\n",
      "3000/6000   temp:754.286991\n",
      "4000/6000   temp:731.320511\n",
      "5000/6000   temp:714.446149\n",
      "0/6000   temp:6000.000000\n",
      "1000/6000   temp:857.036566\n",
      "2000/6000   temp:789.214679\n",
      "3000/6000   temp:754.286991\n",
      "4000/6000   temp:731.320511\n",
      "5000/6000   temp:714.446149\n",
      "0/6000   temp:6000.000000\n",
      "1000/6000   temp:857.036566\n",
      "2000/6000   temp:789.214679\n",
      "3000/6000   temp:754.286991\n",
      "4000/6000   temp:731.320511\n",
      "5000/6000   temp:714.446149\n",
      "[3059.0515495252594, 2944.8449294791217, 3191.877685646612] 3065.2580548836645\n"
     ]
    }
   ],
   "source": [
    "# Test log_cooling_schedule_2 3 times\n",
    "log_cooling_2_results = []\n",
    "test1 = SA(solution, Schwefel, delta, boundary, log_cooling_schedule_2)\n",
    "log_cooling_2_results.append(test1['evaluation'])\n",
    "test2 = SA(solution, Schwefel, delta, boundary, log_cooling_schedule_2)\n",
    "log_cooling_2_results.append(test2['evaluation'])\n",
    "test3 = SA(solution, Schwefel, delta, boundary, log_cooling_schedule_2)\n",
    "log_cooling_2_results.append(test3['evaluation'])\n",
    "print(log_cooling_2_results, np.mean(np.array(log_cooling_2_results)))"
   ]
  },
  {
   "cell_type": "markdown",
   "id": "2a0ab942",
   "metadata": {},
   "source": [
    "(c) Self-created cooling schedule is not necessarily better than the previous cooling schedules.\n",
    "\n",
    "Using scipy.optimize.dual_annealing algorithm, an optimum point was acquired at [420.96879051, 420.96874185, 420.96874932, 420.96879411, 420.96872868, 420.96879546, 420.9688198, 420.9689309, 420.96871069, 420.96872682]. A minimum value of 0.0001272817298740847 was acquired. It's much better than any optimization I've done with the SA algorithm."
   ]
  },
  {
   "cell_type": "code",
   "execution_count": 67,
   "id": "9a2882d5",
   "metadata": {},
   "outputs": [
    {
     "data": {
      "text/plain": [
       "[<matplotlib.lines.Line2D at 0x11ab3b1f0>]"
      ]
     },
     "execution_count": 67,
     "metadata": {},
     "output_type": "execute_result"
    },
    {
     "data": {
      "image/png": "[encoded data removed]",
      "text/plain": [
       "<Figure size 640x480 with 1 Axes>"
      ]
     },
     "metadata": {},
     "output_type": "display_data"
    }
   ],
   "source": [
    "schedule=np.append(log_cooling_schedule_1, np.linspace(log_cooling_schedule_1[-1],2000,500))  # slow linear heating to 2000K\n",
    "schedule=np.append(schedule,log_cooling_schedule(2000, 1000, 2000))     # slow log cooling\n",
    "schedule=np.append(schedule,np.linspace(schedule[-1],1000,250))     # slow linear heating to 1000K\n",
    "schedule=np.append(schedule,log_cooling_schedule(1000, 1000, 2000))     # slow log cooling\n",
    "plt.plot(schedule)"
   ]
  },
  {
   "cell_type": "code",
   "execution_count": 68,
   "id": "2c1a0b62",
   "metadata": {
    "collapsed": true
   },
   "outputs": [
    {
     "name": "stdout",
     "output_type": "stream",
     "text": [
      "0/10750   temp:3000.000000\n",
      "1000/10750   temp:749.918619\n",
      "2000/10750   temp:697.472137\n",
      "3000/10750   temp:670.051769\n",
      "4000/10750   temp:651.866607\n",
      "5000/10750   temp:638.425985\n",
      "6000/10750   temp:627.857898\n",
      "7000/10750   temp:714.313313\n",
      "8000/10750   temp:641.521766\n",
      "9000/10750   temp:555.589125\n",
      "10000/10750   temp:492.024503\n",
      "0/10750   temp:3000.000000\n",
      "1000/10750   temp:749.918619\n",
      "2000/10750   temp:697.472137\n",
      "3000/10750   temp:670.051769\n",
      "4000/10750   temp:651.866607\n",
      "5000/10750   temp:638.425985\n",
      "6000/10750   temp:627.857898\n",
      "7000/10750   temp:714.313313\n",
      "8000/10750   temp:641.521766\n",
      "9000/10750   temp:555.589125\n",
      "10000/10750   temp:492.024503\n",
      "0/10750   temp:3000.000000\n",
      "1000/10750   temp:749.918619\n",
      "2000/10750   temp:697.472137\n",
      "3000/10750   temp:670.051769\n",
      "4000/10750   temp:651.866607\n",
      "5000/10750   temp:638.425985\n",
      "6000/10750   temp:627.857898\n",
      "7000/10750   temp:714.313313\n",
      "8000/10750   temp:641.521766\n",
      "9000/10750   temp:555.589125\n",
      "10000/10750   temp:492.024503\n",
      "[3553.9006187553496, 3465.91439418382, 3426.443981019757] 3482.0863313196423\n"
     ]
    }
   ],
   "source": [
    "solution = np.random.random(10) * 1000 - 500   # Create a 10-d array within [-500, 500)\n",
    "boundary = np.array([-500, 500])\n",
    "delta = 0.5\n",
    "\n",
    "# Test log_cooling_schedule_2 3 times\n",
    "schedule_results = []\n",
    "test1 = SA(solution, Schwefel, delta, boundary, schedule)\n",
    "schedule_results.append(test1['evaluation'])\n",
    "test2 = SA(solution, Schwefel, delta, boundary, schedule)\n",
    "schedule_results.append(test2['evaluation'])\n",
    "test3 = SA(solution, Schwefel, delta, boundary, schedule)\n",
    "schedule_results.append(test3['evaluation'])\n",
    "print(schedule_results, np.mean(np.array(schedule_results)))"
   ]
  },
  {
   "cell_type": "code",
   "execution_count": 79,
   "id": "31c4bc2a",
   "metadata": {},
   "outputs": [
    {
     "name": "stdout",
     "output_type": "stream",
     "text": [
      "[420.96879051 420.96874185 420.96874932 420.96879411 420.96872868\n",
      " 420.96879546 420.9688198  420.9689309  420.96871069 420.96872682] 0.0001272817298740847\n"
     ]
    }
   ],
   "source": [
    "from scipy import optimize\n",
    "lw = [-500] * 10\n",
    "up = [500] * 10\n",
    "bounds=list(zip(lw, up))\n",
    "res_SA = optimize.dual_annealing(Schwefel, bounds, maxiter=1000, initial_temp=3000, x0=solution)\n",
    "print(res_SA.x, res_SA.fun)"
   ]
  },
  {
   "cell_type": "markdown",
   "id": "3a7b0d42",
   "metadata": {},
   "source": [
    "### 2. Clustering and simulated annealing."
   ]
  },
  {
   "cell_type": "markdown",
   "id": "4b71d432",
   "metadata": {},
   "source": [
    "(a) The original dataset was normalized with the following pandas functions. A new DataFrame wines_norm was created."
   ]
  },
  {
   "cell_type": "code",
   "execution_count": 282,
   "id": "0889b1ef",
   "metadata": {},
   "outputs": [
    {
     "data": {
      "text/html": [
       "<div>\n",
       "<style scoped>\n",
       "    .dataframe tbody tr th:only-of-type {\n",
       "        vertical-align: middle;\n",
       "    }\n",
       "\n",
       "    .dataframe tbody tr th {\n",
       "        vertical-align: top;\n",
       "    }\n",
       "\n",
       "    .dataframe thead th {\n",
       "        text-align: right;\n",
       "    }\n",
       "</style>\n",
       "<table border=\"1\" class=\"dataframe\">\n",
       "  <thead>\n",
       "    <tr style=\"text-align: right;\">\n",
       "      <th></th>\n",
       "      <th>Alcohol %</th>\n",
       "      <th>Malic Acid</th>\n",
       "      <th>Ash</th>\n",
       "      <th>Alkalinity</th>\n",
       "      <th>Mg</th>\n",
       "      <th>Phenols</th>\n",
       "      <th>Flavanoids</th>\n",
       "      <th>Phenols.1</th>\n",
       "      <th>Proantho-cyanins</th>\n",
       "      <th>Color intensity</th>\n",
       "      <th>Hue</th>\n",
       "      <th>OD280 315</th>\n",
       "      <th>Proline</th>\n",
       "      <th>Start assignment</th>\n",
       "      <th>ranking</th>\n",
       "    </tr>\n",
       "  </thead>\n",
       "  <tbody>\n",
       "    <tr>\n",
       "      <th>0</th>\n",
       "      <td>1.518613</td>\n",
       "      <td>-0.562250</td>\n",
       "      <td>0.232053</td>\n",
       "      <td>-1.169593</td>\n",
       "      <td>1.913905</td>\n",
       "      <td>0.808997</td>\n",
       "      <td>1.034819</td>\n",
       "      <td>-0.659563</td>\n",
       "      <td>1.224884</td>\n",
       "      <td>0.251717</td>\n",
       "      <td>0.362177</td>\n",
       "      <td>1.847920</td>\n",
       "      <td>1.013009</td>\n",
       "      <td>1</td>\n",
       "      <td>1</td>\n",
       "    </tr>\n",
       "    <tr>\n",
       "      <th>1</th>\n",
       "      <td>0.295700</td>\n",
       "      <td>0.227694</td>\n",
       "      <td>1.840403</td>\n",
       "      <td>0.451946</td>\n",
       "      <td>1.281985</td>\n",
       "      <td>0.808997</td>\n",
       "      <td>0.663351</td>\n",
       "      <td>0.226796</td>\n",
       "      <td>0.401404</td>\n",
       "      <td>-0.319276</td>\n",
       "      <td>0.362177</td>\n",
       "      <td>0.449601</td>\n",
       "      <td>-0.037874</td>\n",
       "      <td>1</td>\n",
       "      <td>1</td>\n",
       "    </tr>\n",
       "    <tr>\n",
       "      <th>2</th>\n",
       "      <td>2.259772</td>\n",
       "      <td>-0.625086</td>\n",
       "      <td>-0.718336</td>\n",
       "      <td>-1.650049</td>\n",
       "      <td>-0.192495</td>\n",
       "      <td>0.808997</td>\n",
       "      <td>0.954502</td>\n",
       "      <td>-0.578985</td>\n",
       "      <td>0.681738</td>\n",
       "      <td>0.061386</td>\n",
       "      <td>0.537671</td>\n",
       "      <td>0.336606</td>\n",
       "      <td>0.949319</td>\n",
       "      <td>1</td>\n",
       "      <td>1</td>\n",
       "    </tr>\n",
       "    <tr>\n",
       "      <th>3</th>\n",
       "      <td>1.382733</td>\n",
       "      <td>-0.768712</td>\n",
       "      <td>-0.170035</td>\n",
       "      <td>-0.809251</td>\n",
       "      <td>-0.332922</td>\n",
       "      <td>-0.152402</td>\n",
       "      <td>0.402320</td>\n",
       "      <td>-0.820719</td>\n",
       "      <td>-0.036617</td>\n",
       "      <td>-0.025128</td>\n",
       "      <td>0.932531</td>\n",
       "      <td>0.294232</td>\n",
       "      <td>1.697675</td>\n",
       "      <td>1</td>\n",
       "      <td>1</td>\n",
       "    </tr>\n",
       "    <tr>\n",
       "      <th>4</th>\n",
       "      <td>0.925685</td>\n",
       "      <td>-0.544297</td>\n",
       "      <td>0.158946</td>\n",
       "      <td>-1.049479</td>\n",
       "      <td>-0.754202</td>\n",
       "      <td>0.488531</td>\n",
       "      <td>0.733629</td>\n",
       "      <td>-0.578985</td>\n",
       "      <td>0.383884</td>\n",
       "      <td>0.234414</td>\n",
       "      <td>0.844785</td>\n",
       "      <td>0.407228</td>\n",
       "      <td>1.825055</td>\n",
       "      <td>1</td>\n",
       "      <td>1</td>\n",
       "    </tr>\n",
       "  </tbody>\n",
       "</table>\n",
       "</div>"
      ],
      "text/plain": [
       "   Alcohol %  Malic Acid       Ash  Alkalinity        Mg   Phenols  \\\n",
       "0   1.518613   -0.562250  0.232053   -1.169593  1.913905  0.808997   \n",
       "1   0.295700    0.227694  1.840403    0.451946  1.281985  0.808997   \n",
       "2   2.259772   -0.625086 -0.718336   -1.650049 -0.192495  0.808997   \n",
       "3   1.382733   -0.768712 -0.170035   -0.809251 -0.332922 -0.152402   \n",
       "4   0.925685   -0.544297  0.158946   -1.049479 -0.754202  0.488531   \n",
       "\n",
       "   Flavanoids  Phenols.1  Proantho-cyanins  Color intensity       Hue  \\\n",
       "0    1.034819  -0.659563          1.224884         0.251717  0.362177   \n",
       "1    0.663351   0.226796          0.401404        -0.319276  0.362177   \n",
       "2    0.954502  -0.578985          0.681738         0.061386  0.537671   \n",
       "3    0.402320  -0.820719         -0.036617        -0.025128  0.932531   \n",
       "4    0.733629  -0.578985          0.383884         0.234414  0.844785   \n",
       "\n",
       "   OD280 315   Proline  Start assignment  ranking  \n",
       "0   1.847920  1.013009                 1        1  \n",
       "1   0.449601 -0.037874                 1        1  \n",
       "2   0.336606  0.949319                 1        1  \n",
       "3   0.294232  1.697675                 1        1  \n",
       "4   0.407228  1.825055                 1        1  "
      ]
     },
     "execution_count": 282,
     "metadata": {},
     "output_type": "execute_result"
    }
   ],
   "source": [
    "wines = pd.read_csv('wines.csv')\n",
    "wines_norm = wines.loc[:, 'Alcohol %':'Proline']\n",
    "wines_norm = (wines_norm - np.mean(wines_norm, axis=0)) / np.std(wines_norm, axis=0)\n",
    "wines_norm = wines_norm.merge(wines[['Start assignment','ranking']], left_index=True, right_index=True)\n",
    "wines_norm.head()"
   ]
  },
  {
   "cell_type": "markdown",
   "id": "eae3447e",
   "metadata": {},
   "source": [
    "(b) Centroid will be a [3, 13] array. By grouping using 'start assignment' column, we can acquire the centroid by taking mean value of the chemical descriptors. The centroid is shown below."
   ]
  },
  {
   "cell_type": "code",
   "execution_count": 283,
   "id": "3ebb048d",
   "metadata": {},
   "outputs": [
    {
     "data": {
      "text/html": [
       "<div>\n",
       "<style scoped>\n",
       "    .dataframe tbody tr th:only-of-type {\n",
       "        vertical-align: middle;\n",
       "    }\n",
       "\n",
       "    .dataframe tbody tr th {\n",
       "        vertical-align: top;\n",
       "    }\n",
       "\n",
       "    .dataframe thead th {\n",
       "        text-align: right;\n",
       "    }\n",
       "</style>\n",
       "<table border=\"1\" class=\"dataframe\">\n",
       "  <thead>\n",
       "    <tr style=\"text-align: right;\">\n",
       "      <th></th>\n",
       "      <th>Alcohol %</th>\n",
       "      <th>Malic Acid</th>\n",
       "      <th>Ash</th>\n",
       "      <th>Alkalinity</th>\n",
       "      <th>Mg</th>\n",
       "      <th>Phenols</th>\n",
       "      <th>Flavanoids</th>\n",
       "      <th>Phenols.1</th>\n",
       "      <th>Proantho-cyanins</th>\n",
       "      <th>Color intensity</th>\n",
       "      <th>Hue</th>\n",
       "      <th>OD280 315</th>\n",
       "      <th>Proline</th>\n",
       "    </tr>\n",
       "    <tr>\n",
       "      <th>Start assignment</th>\n",
       "      <th></th>\n",
       "      <th></th>\n",
       "      <th></th>\n",
       "      <th></th>\n",
       "      <th></th>\n",
       "      <th></th>\n",
       "      <th></th>\n",
       "      <th></th>\n",
       "      <th></th>\n",
       "      <th></th>\n",
       "      <th></th>\n",
       "      <th></th>\n",
       "      <th></th>\n",
       "    </tr>\n",
       "  </thead>\n",
       "  <tbody>\n",
       "    <tr>\n",
       "      <th>1</th>\n",
       "      <td>-0.026321</td>\n",
       "      <td>-0.022878</td>\n",
       "      <td>0.039202</td>\n",
       "      <td>-0.011425</td>\n",
       "      <td>0.001197</td>\n",
       "      <td>0.046232</td>\n",
       "      <td>-0.014499</td>\n",
       "      <td>-0.092738</td>\n",
       "      <td>0.015342</td>\n",
       "      <td>-0.122680</td>\n",
       "      <td>0.072159</td>\n",
       "      <td>-0.021132</td>\n",
       "      <td>-0.001088</td>\n",
       "    </tr>\n",
       "    <tr>\n",
       "      <th>2</th>\n",
       "      <td>-0.030284</td>\n",
       "      <td>-0.043279</td>\n",
       "      <td>-0.117993</td>\n",
       "      <td>-0.122667</td>\n",
       "      <td>-0.180594</td>\n",
       "      <td>-0.110306</td>\n",
       "      <td>-0.040446</td>\n",
       "      <td>0.035593</td>\n",
       "      <td>-0.147087</td>\n",
       "      <td>-0.218465</td>\n",
       "      <td>0.084808</td>\n",
       "      <td>0.077818</td>\n",
       "      <td>-0.085479</td>\n",
       "    </tr>\n",
       "    <tr>\n",
       "      <th>3</th>\n",
       "      <td>0.054317</td>\n",
       "      <td>0.063613</td>\n",
       "      <td>0.076850</td>\n",
       "      <td>0.129509</td>\n",
       "      <td>0.173535</td>\n",
       "      <td>0.062731</td>\n",
       "      <td>0.052907</td>\n",
       "      <td>0.053751</td>\n",
       "      <td>0.127677</td>\n",
       "      <td>0.327948</td>\n",
       "      <td>-0.150638</td>\n",
       "      <td>-0.055173</td>\n",
       "      <td>0.083711</td>\n",
       "    </tr>\n",
       "  </tbody>\n",
       "</table>\n",
       "</div>"
      ],
      "text/plain": [
       "                  Alcohol %  Malic Acid       Ash  Alkalinity        Mg  \\\n",
       "Start assignment                                                          \n",
       "1                 -0.026321   -0.022878  0.039202   -0.011425  0.001197   \n",
       "2                 -0.030284   -0.043279 -0.117993   -0.122667 -0.180594   \n",
       "3                  0.054317    0.063613  0.076850    0.129509  0.173535   \n",
       "\n",
       "                   Phenols  Flavanoids  Phenols.1  Proantho-cyanins  \\\n",
       "Start assignment                                                      \n",
       "1                 0.046232   -0.014499  -0.092738          0.015342   \n",
       "2                -0.110306   -0.040446   0.035593         -0.147087   \n",
       "3                 0.062731    0.052907   0.053751          0.127677   \n",
       "\n",
       "                  Color intensity       Hue  OD280 315   Proline  \n",
       "Start assignment                                                  \n",
       "1                       -0.122680  0.072159  -0.021132 -0.001088  \n",
       "2                       -0.218465  0.084808   0.077818 -0.085479  \n",
       "3                        0.327948 -0.150638  -0.055173  0.083711  "
      ]
     },
     "execution_count": 283,
     "metadata": {},
     "output_type": "execute_result"
    }
   ],
   "source": [
    "chem_descriptors = list(wines_norm.columns)[0:13]\n",
    "centroid = wines_norm.groupby('Start assignment')[chem_descriptors].agg(np.mean)\n",
    "centroid"
   ]
  },
  {
   "cell_type": "markdown",
   "id": "da630330",
   "metadata": {},
   "source": [
    "(c) I first define the cost function based on the provided equation. The cost function is shown below. By using vectorized calculation, I was able to acquire a sum for the current dataset as 2320.10"
   ]
  },
  {
   "cell_type": "code",
   "execution_count": 284,
   "id": "95a267dc",
   "metadata": {},
   "outputs": [
    {
     "data": {
      "text/plain": [
       "2288.2043588628485"
      ]
     },
     "execution_count": 284,
     "metadata": {},
     "output_type": "execute_result"
    }
   ],
   "source": [
    "def cluster(feats, column):\n",
    "    sum=0;\n",
    "    for i in range(len(centroid.index)):\n",
    "        sum += np.sum(np.sum((feats[feats[column] == centroid.index[i]] - centroid.iloc[i, :])**2, axis=1))\n",
    "    return sum\n",
    "sum = cluster(wines_norm, 'Start assignment')\n",
    "sum"
   ]
  },
  {
   "cell_type": "markdown",
   "id": "0a1360d3",
   "metadata": {},
   "source": [
    "(d) I was able to complete the algorithm and saw a little change. But the algorithm takes too long to run. So I changed step to 2 and saw changes happening to the ranking and evaluation in each step."
   ]
  },
  {
   "cell_type": "code",
   "execution_count": 280,
   "id": "2b286f5b",
   "metadata": {},
   "outputs": [],
   "source": [
    "def simulated_annealing(feats,ranks,centers,start_temp,alpha,steps=10000):\n",
    "    \"\"\" Simulated Annealing for clustering\n",
    "    feats: pd.DataFrame. Normalized chemical descriptors.   wines_norm.\n",
    "    ranks: np.array shape(178,). Initial assignment. wines_norm['ranking'].\n",
    "    centers: np.array shape (3,13). Fixed centers.    centroid.\n",
    "    start_temp: float. Initial tempreture.     500.\n",
    "    alpha: float. Hyperparameter for geometric cooling         0.999.\n",
    "    steps: int.        5000.\n",
    "    \"\"\"\n",
    "    best_rank=ranks.copy()\n",
    "    # evaluate the cost function with current best rank\n",
    "    lowest_eval=cluster(feats, 'ranking')\n",
    "    \n",
    "    # Make geometric cooling schedule based on hyper-parameters\n",
    "    geometric_cooling_schedule = []\n",
    "    for i in range(steps):\n",
    "        geometric_cooling_schedule.append(start_temp * alpha**i)\n",
    "    geometric_cooling_schedule = np.array(geometric_cooling_schedule)\n",
    "    \n",
    "    for step in (range(steps)):\n",
    "        \n",
    "        # update temperature according to geometric cooling schedule\n",
    "        temp=geometric_cooling_schedule[step]\n",
    "\n",
    "        if step%10==0:\n",
    "            print(step,temp,lowest_eval)\n",
    "        \n",
    "        for n in range(len(ranks)):\n",
    "            trial=ranks.copy()\n",
    "            rand_choice=np.random.randint(3)+1            # Randomly switch ranking assignment\n",
    "            trial[n]=rand_choice\n",
    "            feats['trial'] = trial\n",
    "            delta = cluster(feats, 'trial') - cluster(feats, 'ranking')\n",
    "            # Metropolis acceptance criterion\n",
    "            if np.exp(-delta/temp) > np.random.random():\n",
    "                feats['ranking'] = trial\n",
    "                new_eval=cluster(feats, 'ranking')\n",
    "                if new_eval<lowest_eval:\n",
    "                    #update best rank and lowest_eval\n",
    "                    best_rank=ranks.copy()\n",
    "                    lowest_eval=new_eval\n",
    "    return {\"solution\":best_rank,\"evaluation\":lowest_eval}"
   ]
  },
  {
   "cell_type": "code",
   "execution_count": 281,
   "id": "bbfad3ee",
   "metadata": {},
   "outputs": [
    {
     "name": "stdout",
     "output_type": "stream",
     "text": [
      "0 500.0 2318.730662089869\n"
     ]
    },
    {
     "data": {
      "text/plain": [
       "{'solution': 0      1\n",
       " 1      1\n",
       " 2      1\n",
       " 3      1\n",
       " 4      1\n",
       "       ..\n",
       " 173    1\n",
       " 174    1\n",
       " 175    1\n",
       " 176    1\n",
       " 177    2\n",
       " Name: ranking, Length: 178, dtype: int64,\n",
       " 'evaluation': 2313.6091114732476}"
      ]
     },
     "execution_count": 281,
     "metadata": {},
     "output_type": "execute_result"
    }
   ],
   "source": [
    "simulated_annealing(wines_norm,wines_norm['ranking'],centroid,500,0.999,steps=2)"
   ]
  },
  {
   "cell_type": "code",
   "execution_count": 285,
   "id": "8d864fe7",
   "metadata": {},
   "outputs": [],
   "source": [
    "def validate(solution, df):\n",
    "    \"\"\"Prints out how many wines are corretly assigned to its cultivar\n",
    "    solution: np.array shape(178,). Your solution.\n",
    "    df: pd.DataFrame. Read-in of the wines.csv dataset\n",
    "    \"\"\"\n",
    "    # correct classification\n",
    "    ranking = df['ranking'].values\n",
    "    cluster_1 = list(df[df['ranking']==1].index)\n",
    "    cluster_2 = list(df[df['ranking']==2].index)\n",
    "    cluster_3 = list(df[df['ranking']==3].index)\n",
    "    clusters =[cluster_1,cluster_2,cluster_3]\n",
    "\n",
    "    for i in range(1,4):\n",
    "        #loop over solutions\n",
    "        counts=[]\n",
    "        scores=[]\n",
    "        for j in range(3):\n",
    "            #loop over clusters of true assignments\n",
    "            sol_i= [idx for idx,k in enumerate(solution) if k==i]\n",
    "            counts.append(len(np.intersect1d(sol_i, clusters[j])))\n",
    "            scores.append(counts[-1]/len(clusters[j]))\n",
    "        idx = np.argmax(scores)\n",
    "        print(f'Class {i} - cultivar {idx+1}: {counts[idx]} out \\\n",
    "of {len(clusters[idx])} are classified correctly')"
   ]
  },
  {
   "cell_type": "code",
   "execution_count": 286,
   "id": "24d528f7",
   "metadata": {},
   "outputs": [
    {
     "name": "stdout",
     "output_type": "stream",
     "text": [
      "Class 1 - cultivar 1: 59 out of 59 are classified correctly\n",
      "Class 2 - cultivar 2: 71 out of 71 are classified correctly\n",
      "Class 3 - cultivar 3: 48 out of 48 are classified correctly\n"
     ]
    }
   ],
   "source": [
    "validate(wines_norm['ranking'], wines_norm)"
   ]
  },
  {
   "cell_type": "markdown",
   "id": "aa3bf41d",
   "metadata": {},
   "source": [
    "(e) The concept of the algorithm is: (1) use visitation function to shift the centroid. (2) loop through all 178 wines to re-assign their groups. (3) assess the values and compare to current best.\n",
    "\n",
    "I was able to classify all the wines correctly with the designed simulated annealing algorithm."
   ]
  },
  {
   "cell_type": "code",
   "execution_count": 292,
   "id": "9a6ae78c",
   "metadata": {},
   "outputs": [],
   "source": [
    "def simulated_annealing_e(feats,ranks,centers,start_temp,alpha,delta,steps=10000):\n",
    "    \"\"\" Simulated Annealing for clustering\n",
    "    feats: pd.DataFrame. Normalized chemical descriptors.   wines_norm.\n",
    "    ranks: np.array shape(178,). Initial assignment. wines_norm['ranking'].\n",
    "    centers: np.array shape (3,13). Fixed centers.    centroid.\n",
    "    start_temp: float. Initial tempreture.     500.\n",
    "    alpha: float. Hyperparameter for geometric cooling         0.999.\n",
    "    delta: float. Hyperparameter.   0.01.\n",
    "    steps: int.        5000.\n",
    "    \"\"\"\n",
    "    best_rank=ranks.copy()\n",
    "    # evaluate the cost function with current best rank\n",
    "    lowest_eval=cluster(feats, 'ranking')\n",
    "    \n",
    "    # Make geometric cooling schedule based on hyper-parameters\n",
    "    geometric_cooling_schedule = []\n",
    "    for i in range(steps):\n",
    "        geometric_cooling_schedule.append(start_temp * alpha**i)\n",
    "    geometric_cooling_schedule = np.array(geometric_cooling_schedule)\n",
    "    centroid_new = centroid.copy()\n",
    "    [i, j] = centroid_new.shape\n",
    "\n",
    "    for step in (range(steps)):\n",
    "        \n",
    "        # update temperature according to geometric cooling schedule\n",
    "        temp=geometric_cooling_schedule[step]\n",
    "\n",
    "        if step%10==0:\n",
    "            print(step,temp,lowest_eval)\n",
    "        \n",
    "        # Update centroid with the new visitation function\n",
    "        for a in range(i):\n",
    "            for b in range(j):\n",
    "                centroid_new.iloc[a, b] += (np.random.random() * 2 - 1) * delta\n",
    "        \n",
    "        # re-assign ranking based on new centroid and distances\n",
    "        for n in range(len(ranks)):\n",
    "            \n",
    "            # Calculate distances and find the min as new ranking assignment\n",
    "            distances = []\n",
    "            for k in range(len(centroid_new.index)):\n",
    "                distance = np.sqrt(np.sum((feats.iloc[n, :] - centroid.iloc[k, :])**2))\n",
    "                distances.append(distance)\n",
    "            ranks[n] = distances.index(min(distances)) + 1\n",
    "\n",
    "            trial = ranks.copy()\n",
    "            feats['trial'] = trial\n",
    "            delta = cluster(feats, 'trial') - cluster(feats, 'ranking')\n",
    "            # Metropolis acceptance criterion\n",
    "            if np.exp(-delta/temp) > np.random.random():\n",
    "                feats['ranking'] = trial\n",
    "                new_eval=cluster(feats, 'ranking')\n",
    "                if new_eval<lowest_eval:\n",
    "                    #update best rank and lowest_eval\n",
    "                    best_rank=ranks.copy()\n",
    "                    lowest_eval=new_eval\n",
    "    return {\"solution\":best_rank,\"evaluation\":lowest_eval}"
   ]
  },
  {
   "cell_type": "code",
   "execution_count": 295,
   "id": "8d57569d",
   "metadata": {},
   "outputs": [
    {
     "name": "stdout",
     "output_type": "stream",
     "text": [
      "0 500.0 2160.171014209908\n"
     ]
    },
    {
     "name": "stderr",
     "output_type": "stream",
     "text": [
      "/var/folders/pk/syhjl001491bwlx124c6hv_h0000gn/T/ipykernel_60915/317164022.py:44: SettingWithCopyWarning: \n",
      "A value is trying to be set on a copy of a slice from a DataFrame\n",
      "\n",
      "See the caveats in the documentation: https://pandas.pydata.org/pandas-docs/stable/user_guide/indexing.html#returning-a-view-versus-a-copy\n",
      "  ranks[n] = distances.index(min(distances)) + 1\n"
     ]
    },
    {
     "name": "stdout",
     "output_type": "stream",
     "text": [
      "10 495.02244010487414 2160.171014209908\n",
      "20 490.09443241476737 2160.171014209908\n",
      "30 485.2154836315429 2160.171014209908\n",
      "40 480.3851053679059 2160.171014209908\n",
      "50 475.6028140985157 2160.171014209908\n",
      "60 470.8681311115841 2160.171014209908\n",
      "70 466.18058246095626 2160.171014209908\n",
      "80 461.5396989186681 2160.171014209908\n",
      "90 456.945015927976 2160.171014209908\n"
     ]
    },
    {
     "data": {
      "text/plain": [
       "{'solution': 0      3\n",
       " 1      3\n",
       " 2      1\n",
       " 3      1\n",
       " 4      1\n",
       "       ..\n",
       " 173    3\n",
       " 174    3\n",
       " 175    3\n",
       " 176    3\n",
       " 177    2\n",
       " Name: ranking, Length: 178, dtype: int64,\n",
       " 'evaluation': 2160.171014209908}"
      ]
     },
     "execution_count": 295,
     "metadata": {},
     "output_type": "execute_result"
    }
   ],
   "source": [
    "simulated_annealing_e(wines_norm,wines_norm['ranking'],centroid,500,0.999,0.01,steps=100)"
   ]
  },
  {
   "cell_type": "code",
   "execution_count": 296,
   "id": "122266b7",
   "metadata": {},
   "outputs": [
    {
     "name": "stdout",
     "output_type": "stream",
     "text": [
      "Class 1 - cultivar 1: 42 out of 42 are classified correctly\n",
      "Class 2 - cultivar 2: 68 out of 68 are classified correctly\n",
      "Class 3 - cultivar 3: 68 out of 68 are classified correctly\n"
     ]
    }
   ],
   "source": [
    "validate(wines_norm['ranking'], wines_norm)"
   ]
  }
 ],
 "metadata": {
  "kernelspec": {
   "display_name": "Python 3 (ipykernel)",
   "language": "python",
   "name": "python3"
  },
  "language_info": {
   "codemirror_mode": {
    "name": "ipython",
    "version": 3
   },
   "file_extension": ".py",
   "mimetype": "text/x-python",
   "name": "python",
   "nbconvert_exporter": "python",
   "pygments_lexer": "ipython3",
   "version": "3.10.6"
  }
 },
 "nbformat": 4,
 "nbformat_minor": 5
}

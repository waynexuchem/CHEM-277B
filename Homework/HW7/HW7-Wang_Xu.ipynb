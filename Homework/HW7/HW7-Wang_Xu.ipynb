{
 "cells": [
  {
   "cell_type": "markdown",
   "metadata": {
    "id": "slcqDm8tq_nO"
   },
   "source": [
    "# **Chem277B**: **Machine Learning Algorithms**\n",
    "\n",
    "## **Homework assignment #7**: Deeper Learning and Regularization"
   ]
  },
  {
   "cell_type": "code",
   "execution_count": 44,
   "metadata": {
    "id": "doErN2CGiT8E"
   },
   "outputs": [],
   "source": [
    "import numpy as np \n",
    "import pandas as pd\n",
    "import math \n",
    "import matplotlib.pyplot as plt\n",
    "import torch\n",
    "import torch.nn as nn\n",
    "import torch.optim as optim\n",
    "import torch.nn.functional as F\n",
    "from torch.optim import SGD, Adam\n",
    "from sklearn.model_selection import train_test_split, KFold\n",
    "from sklearn import cluster, datasets, mixture\n",
    "from sklearn.preprocessing import StandardScaler\n",
    "from sklearn.decomposition import PCA\n",
    "from itertools import cycle, islice\n",
    "from pylab import *\n",
    "import seaborn as sns\n",
    "from functools import wraps\n",
    "from time import time\n",
    "import random\n",
    "from tqdm import tqdm\n",
    "import warnings\n",
    "\n",
    "sns.set()"
   ]
  },
  {
   "cell_type": "markdown",
   "metadata": {
    "id": "z4glsKiOrJw2"
   },
   "source": [
    "## 1. **Bias-variance tradeoff**."
   ]
  },
  {
   "cell_type": "markdown",
   "metadata": {
    "id": "eRAPGcRYrjBr"
   },
   "source": [
    "### (a) I have sorted out the training and testing datasets and normalized the data using each 32 * 32 image's maximum pixel value. I noticed some of the image's max pixel value is not 255. I also did a little confirmation test by printing out the sum of the training/testing sets before and after normalization. There's indeed a >200-fold decrease of the sum value."
   ]
  },
  {
   "cell_type": "code",
   "execution_count": 2,
   "metadata": {
    "colab": {
     "base_uri": "https://localhost:8080/"
    },
    "id": "T8GOjHpVibJF",
    "outputId": "99706909-a450-467a-91eb-24042df9cb31"
   },
   "outputs": [
    {
     "name": "stdout",
     "output_type": "stream",
     "text": [
      "Train: X=(60000, 32, 32), y=(60000,)\n",
      "Test: X=(10000, 32, 32), y=(10000,)\n"
     ]
    }
   ],
   "source": [
    "# First load the mnist data and convert all elements into lists / arrays\n",
    "mnist = list(pd.read_pickle('mnist.pkl'))\n",
    "mnist[0] = list(mnist[0])\n",
    "mnist[1] = list(mnist[1])\n",
    "train_X = mnist[0][0]\n",
    "train_y = mnist[0][1]\n",
    "test_X = mnist[1][0]\n",
    "test_y = mnist[1][1]\n",
    "print('Train: X=%s, y=%s' % (train_X.shape, train_y.shape))\n",
    "print('Test: X=%s, y=%s' % (test_X.shape, test_y.shape))"
   ]
  },
  {
   "cell_type": "code",
   "execution_count": 3,
   "metadata": {
    "id": "vgGmIWGCiq5D"
   },
   "outputs": [],
   "source": [
    "# Define a function to normalize the training and testing data sets\n",
    "def normalize_pixels(train_X, test_X):\n",
    "    \n",
    "    # First convert the dataset to floats\n",
    "    train_X_norm = train_X.astype('float32')\n",
    "    test_X_norm = test_X.astype('float32')\n",
    "    \n",
    "    # Find maximum values for all 60000 / 10000 pictures in train and test datasets\n",
    "    # and broadcast to a (60000 / 10000, 32, 32) shape array\n",
    "    train_X_max = np.broadcast_to(train_X.max(axis=(1,2))[:, np.newaxis, np.newaxis], (60000, 32, 32))\n",
    "    test_X_max = np.broadcast_to(test_X.max(axis=(1,2))[:, np.newaxis, np.newaxis], (10000, 32, 32))\n",
    "    \n",
    "    # Normalize the datasets\n",
    "    train_X_norm = train_X_norm / train_X_max\n",
    "    test_X_norm = test_X_norm / test_X_max\n",
    "    \n",
    "    # Return the normalized datasets\n",
    "    return train_X_norm, test_X_norm"
   ]
  },
  {
   "cell_type": "code",
   "execution_count": 4,
   "metadata": {
    "colab": {
     "base_uri": "https://localhost:8080/"
    },
    "id": "36WA7pfii4tX",
    "outputId": "e8c85d94-c5e4-4383-9cf4-b5e55b1ec1a7"
   },
   "outputs": [
    {
     "name": "stdout",
     "output_type": "stream",
     "text": [
      "1567298545 6148662.5\n",
      "264923200 1039329.2\n"
     ]
    }
   ],
   "source": [
    "# Normalize the datasets and confirm the data has been normalized\n",
    "train_X_norm, test_X_norm = normalize_pixels(train_X, test_X)\n",
    "print(train_X.sum(), train_X_norm.sum())\n",
    "print(test_X.sum(), test_X_norm.sum())"
   ]
  },
  {
   "cell_type": "markdown",
   "metadata": {
    "id": "0A8ZjyyEr6kp"
   },
   "source": [
    "(b) The finished Trainer class and the ANN are shown below.\n",
    "\n",
    "I divided the training data into a 3-fold groups of training and validation datasets using KFold modality. I chose to do the training-validation split outside the Trainer Class because I found that doing it inside the class always creates index errors and it's very hard to debug. The index errors happened because the for loop to run epoch training first shuffled the indices so some of the large indices will appear and they are outside the index range. I haven't found an elegant way to solve the problem. So I just put the KFold split outside the Trainer Class and it worked just fine."
   ]
  },
  {
   "cell_type": "code",
   "execution_count": 40,
   "metadata": {
    "id": "QB7YI2Vdi5eo"
   },
   "outputs": [],
   "source": [
    "def timing(f):\n",
    "    @wraps(f)\n",
    "    def wrap(*args, **kw):\n",
    "        ts = time()\n",
    "        result = f(*args, **kw)\n",
    "        te = time()\n",
    "        print('func:%r  took: %2.4f sec' % (f.__name__,  te-ts))\n",
    "        return result\n",
    "    return wrap\n",
    "\n",
    "def create_chunks(complete_list, chunk_size=None, num_chunks=None):\n",
    "    '''\n",
    "    Cut a list into multiple chunks, each having chunk_size (the last chunk might be less than chunk_size)\n",
    "    or having a total of num_chunk chunks\n",
    "    '''\n",
    "    chunks = []\n",
    "    if num_chunks is None:\n",
    "        num_chunks = math.ceil(len(complete_list) / chunk_size)\n",
    "    elif chunk_size is None:\n",
    "        chunk_size = math.ceil(len(complete_list) / num_chunks)\n",
    "    for i in range(num_chunks):\n",
    "        chunks.append(complete_list[i * chunk_size: (i + 1) * chunk_size])\n",
    "    return chunks\n",
    "\n",
    "class Trainer():\n",
    "    def __init__(self, model, optimizer_type, learning_rate, epoch, batch_size, input_transform=lambda x: x,):\n",
    "        \"\"\" The class for training the model\n",
    "        model: nn.Module\n",
    "            A pytorch model\n",
    "        optimizer_type: 'adam' or 'sgd'\n",
    "        learning_rate: float\n",
    "        epoch: int\n",
    "        batch_size: int\n",
    "        input_transform: func\n",
    "            transforming input. Can do reshape here\n",
    "        \"\"\"\n",
    "        self.model = model\n",
    "        if optimizer_type == \"sgd\":\n",
    "            self.optimizer = SGD(model.parameters(), learning_rate,momentum=0.9)\n",
    "        elif optimizer_type == \"adam\":\n",
    "            self.optimizer = optim.Adam(model.parameters(), learning_rate)\n",
    "            \n",
    "        self.epoch = epoch\n",
    "        self.batch_size = batch_size\n",
    "        self.input_transform = input_transform\n",
    "\n",
    "    @timing\n",
    "    def train(self, inputs, outputs, val_inputs, val_outputs, early_stop=False, l2=False, silent=False):\n",
    "        \"\"\" train self.model with specified arguments using 3-fold cross-validation\n",
    "        inputs: np.array, The shape of input_transform(input) should be (ndata,nfeatures)\n",
    "        outputs: np.array shape (ndata,)\n",
    "        val_nputs: np.array, The shape of input_transform(val_input) should be (ndata,nfeatures)\n",
    "        val_outputs: np.array shape (ndata,)\n",
    "        early_stop: bool\n",
    "        l2: bool\n",
    "        silent: bool. Controls whether or not to print the train and val error during training\n",
    "        \n",
    "        @return\n",
    "        a dictionary of arrays with train and val losses and accuracies\n",
    "        \"\"\"\n",
    "\n",
    "        ### convert data to tensor of correct shape and type here ###\n",
    "        inputs = torch.Tensor(self.input_transform(inputs)).float().clone().detach() # inputs are (X (40000), 32, 32))\n",
    "        outputs = torch.Tensor(outputs).long().clone().detach()  # outputs are (y (40000), ))\n",
    "        val_inputs = torch.Tensor(self.input_transform(val_inputs)).float().clone().detach() # val_inputs are (X (20000), 32, 32))\n",
    "        val_outputs = torch.Tensor(val_outputs).long().clone().detach()  # val_outputs are (y (20000), ))\n",
    "        \n",
    "        losses = []\n",
    "        accuracies = []\n",
    "        val_losses = []\n",
    "        val_accuracies = []\n",
    "        weights = self.model.state_dict()\n",
    "        lowest_val_loss = np.inf\n",
    "        \n",
    "        for n_epoch in tqdm(range(self.epoch), leave=False):\n",
    "            self.model.train()\n",
    "            batch_indices = list(range(inputs.shape[0])) # range(40000)\n",
    "            random.shuffle(batch_indices)\n",
    "            batch_indices = create_chunks(batch_indices, chunk_size=self.batch_size)\n",
    "            epoch_loss = 0\n",
    "            epoch_acc = 0\n",
    "            for batch in batch_indices:\n",
    "                batch_importance = len(batch) / len(outputs)\n",
    "                batch_input = inputs[batch]\n",
    "                batch_output = outputs[batch]\n",
    "                \n",
    "                ### make prediction and compute loss with loss function of your choice on this batch ###\n",
    "                batch_predictions = self.model(batch_input)\n",
    "                loss = F.cross_entropy(batch_predictions, batch_output)\n",
    "                \n",
    "                if l2:\n",
    "                    ### Compute the loss with L2 regularization ###\n",
    "                    l2_lambda = 1e-5\n",
    "                    l2_reg = torch.tensor(0.)\n",
    "                    for param in self.model.parameters():\n",
    "                        l2_reg += torch.norm(param)\n",
    "                    loss += l2_lambda * l2_reg\n",
    "                    \n",
    "                self.optimizer.zero_grad()\n",
    "                loss.backward()\n",
    "                self.optimizer.step()\n",
    "                \n",
    "                ### Compute epoch_loss and epoch_acc\n",
    "                epoch_loss += loss.item() * batch_importance\n",
    "                epoch_acc += (batch_predictions.argmax(dim=1) == batch_output).float().mean().item() * batch_importance\n",
    "\n",
    "            val_loss, val_acc = self.evaluate(val_inputs, val_outputs, print_acc=False)\n",
    "            \n",
    "            if n_epoch % 10 ==0 and not silent: \n",
    "                print(\"Epoch %d/%d - Loss: %.3f - Acc: %.3f\" % (n_epoch + 1, self.epoch, epoch_loss, epoch_acc))\n",
    "                print(\"              Val_loss: %.3f - Val_acc: %.3f\" % (val_loss, val_acc))\n",
    "            losses.append(epoch_loss)\n",
    "            accuracies.append(epoch_acc)\n",
    "            val_losses.append(val_loss)\n",
    "            val_accuracies.append(val_acc)\n",
    "            if early_stop:\n",
    "                if val_loss < lowest_val_loss:\n",
    "                    lowest_val_loss = val_loss\n",
    "                    weights = self.model.state_dict()\n",
    "\n",
    "        if early_stop:\n",
    "            self.model.load_state_dict(weights)    \n",
    "\n",
    "        return {\"losses\": losses, \"accuracies\": accuracies, \"val_losses\": val_losses, \"val_accuracies\": val_accuracies}\n",
    "        \n",
    "    def evaluate(self, inputs, outputs, print_acc=True):\n",
    "        \"\"\" evaluate model on provided input and output\n",
    "        inputs: np.array, The shape of input_transform(input) should be (ndata,nfeatures)\n",
    "        outputs: np.array shape (ndata,)\n",
    "        print_acc: bool\n",
    "        \n",
    "        @return\n",
    "        losses: float\n",
    "        acc: float\n",
    "        \"\"\"\n",
    "        with torch.no_grad():\n",
    "            inputs = torch.tensor(inputs).float().clone().detach()\n",
    "            outputs = torch.tensor(outputs).long().clone().detach()\n",
    "            outputs_pred = self.model(inputs)\n",
    "            loss = F.cross_entropy(outputs_pred, outputs)\n",
    "            acc = torch.mean((torch.argmax(outputs_pred, dim=1) == outputs).float())\n",
    "        if print_acc:\n",
    "            print(f'Accuracy: {acc.item()}')\n",
    "        return loss, acc"
   ]
  },
  {
   "cell_type": "code",
   "execution_count": 29,
   "metadata": {
    "id": "3I--CX0Qi8Tf"
   },
   "outputs": [],
   "source": [
    "class MLP(nn.Module):\n",
    "    def __init__(self):\n",
    "        super(MLP, self).__init__()\n",
    "        self.layers = nn.Sequential(\n",
    "            nn.Flatten(),\n",
    "            nn.Linear(1024, 3),\n",
    "            nn.Sigmoid(),\n",
    "            nn.Linear(3, 10),\n",
    "            nn.Sigmoid()\n",
    "        )\n",
    "        \n",
    "    def forward(self, X):\n",
    "        return self.layers(X)"
   ]
  },
  {
   "cell_type": "markdown",
   "metadata": {
    "id": "Xq-LC4gjuPre"
   },
   "source": [
    "(c) I made the multi-layer perceptron ANN with 2 computing layers, a hidden layer of 3 neurons and a final output layer of 10 neurons. Both layers use a sigmoid activation function.\n",
    "\n",
    "I then ran the model using the required ADAM optimizer and parameters. From the results and the generated plots, clearly the model converges without the need or further regularization. But the accuracies are pretty bad and stay at ~0.58. I tested the model on the testing datasets and got similar results on loss and accuracy.\n",
    "\n",
    "The bias-variance tradeoff refers to the balancing of the model's ability to fit the training data (low bias) with its ability to generalize to new data (low variance).\n",
    "\n",
    "The MLP ANN we employ here consists of two linear layers with a non-linear activation function in between. The first linear layer maps the input data from a 1024-dimensional space to a 3-dimensional space. The second linear layer maps the output of the first layer from a 3-dimensional space to a 10-dimensional space. The mapping of the space dimension itself is not reasonable as indicated in the tutorial class, gradient vanishing could happen. The hidden layer with 3-dimensions may not provide enough capacity for the model to learn complex patterns in the data.\n",
    "\n",
    "Hence I think the model's the poor accuracy is due to high bias and limited by the hidden layer and the activation function. The model's variance seems OK but it's limited by the bias."
   ]
  },
  {
   "cell_type": "code",
   "execution_count": 30,
   "metadata": {
    "colab": {
     "base_uri": "https://localhost:8080/"
    },
    "id": "3LbDyQhji-OW",
    "outputId": "2b13a9f6-2a06-4006-d226-882535372302"
   },
   "outputs": [
    {
     "name": "stderr",
     "output_type": "stream",
     "text": [
      "\r",
      "  0%|          | 0/50 [00:00<?, ?it/s]<ipython-input-8-c6373bc9576a>:137: UserWarning: To copy construct from a tensor, it is recommended to use sourceTensor.clone().detach() or sourceTensor.clone().detach().requires_grad_(True), rather than torch.tensor(sourceTensor).\n",
      "  inputs = torch.tensor(inputs).float().clone().detach()\n",
      "<ipython-input-8-c6373bc9576a>:138: UserWarning: To copy construct from a tensor, it is recommended to use sourceTensor.clone().detach() or sourceTensor.clone().detach().requires_grad_(True), rather than torch.tensor(sourceTensor).\n",
      "  outputs = torch.tensor(outputs).long().clone().detach()\n",
      "  2%|▏         | 1/50 [00:00<00:38,  1.29it/s]"
     ]
    },
    {
     "name": "stdout",
     "output_type": "stream",
     "text": [
      "Epoch 1/50 - Loss: 2.206 - Acc: 0.268\n",
      "              Val_loss: 2.133 - Val_acc: 0.318\n"
     ]
    },
    {
     "name": "stderr",
     "output_type": "stream",
     "text": [
      " 22%|██▏       | 11/50 [00:06<00:20,  1.90it/s]"
     ]
    },
    {
     "name": "stdout",
     "output_type": "stream",
     "text": [
      "Epoch 11/50 - Loss: 1.790 - Acc: 0.535\n",
      "              Val_loss: 1.792 - Val_acc: 0.527\n"
     ]
    },
    {
     "name": "stderr",
     "output_type": "stream",
     "text": [
      " 42%|████▏     | 21/50 [00:11<00:14,  2.04it/s]"
     ]
    },
    {
     "name": "stdout",
     "output_type": "stream",
     "text": [
      "Epoch 21/50 - Loss: 1.739 - Acc: 0.504\n",
      "              Val_loss: 1.748 - Val_acc: 0.490\n"
     ]
    },
    {
     "name": "stderr",
     "output_type": "stream",
     "text": [
      " 62%|██████▏   | 31/50 [00:16<00:11,  1.70it/s]"
     ]
    },
    {
     "name": "stdout",
     "output_type": "stream",
     "text": [
      "Epoch 31/50 - Loss: 1.722 - Acc: 0.495\n",
      "              Val_loss: 1.734 - Val_acc: 0.480\n"
     ]
    },
    {
     "name": "stderr",
     "output_type": "stream",
     "text": [
      " 82%|████████▏ | 41/50 [00:23<00:05,  1.68it/s]"
     ]
    },
    {
     "name": "stdout",
     "output_type": "stream",
     "text": [
      "Epoch 41/50 - Loss: 1.707 - Acc: 0.483\n",
      "              Val_loss: 1.719 - Val_acc: 0.465\n"
     ]
    },
    {
     "name": "stderr",
     "output_type": "stream",
     "text": []
    },
    {
     "name": "stdout",
     "output_type": "stream",
     "text": [
      "func:'train'  took: 29.6902 sec\n"
     ]
    },
    {
     "name": "stderr",
     "output_type": "stream",
     "text": [
      "  2%|▏         | 1/50 [00:00<00:23,  2.07it/s]"
     ]
    },
    {
     "name": "stdout",
     "output_type": "stream",
     "text": [
      "Epoch 1/50 - Loss: 1.705 - Acc: 0.473\n",
      "              Val_loss: 1.699 - Val_acc: 0.485\n"
     ]
    },
    {
     "name": "stderr",
     "output_type": "stream",
     "text": [
      " 22%|██▏       | 11/50 [00:06<00:23,  1.68it/s]"
     ]
    },
    {
     "name": "stdout",
     "output_type": "stream",
     "text": [
      "Epoch 11/50 - Loss: 1.696 - Acc: 0.476\n",
      "              Val_loss: 1.700 - Val_acc: 0.479\n"
     ]
    },
    {
     "name": "stderr",
     "output_type": "stream",
     "text": [
      " 42%|████▏     | 21/50 [00:13<00:25,  1.14it/s]"
     ]
    },
    {
     "name": "stdout",
     "output_type": "stream",
     "text": [
      "Epoch 21/50 - Loss: 1.691 - Acc: 0.477\n",
      "              Val_loss: 1.699 - Val_acc: 0.479\n"
     ]
    },
    {
     "name": "stderr",
     "output_type": "stream",
     "text": [
      " 62%|██████▏   | 31/50 [00:19<00:11,  1.60it/s]"
     ]
    },
    {
     "name": "stdout",
     "output_type": "stream",
     "text": [
      "Epoch 31/50 - Loss: 1.686 - Acc: 0.479\n",
      "              Val_loss: 1.696 - Val_acc: 0.480\n"
     ]
    },
    {
     "name": "stderr",
     "output_type": "stream",
     "text": [
      " 82%|████████▏ | 41/50 [00:25<00:05,  1.71it/s]"
     ]
    },
    {
     "name": "stdout",
     "output_type": "stream",
     "text": [
      "Epoch 41/50 - Loss: 1.670 - Acc: 0.480\n",
      "              Val_loss: 1.682 - Val_acc: 0.480\n"
     ]
    },
    {
     "name": "stderr",
     "output_type": "stream",
     "text": []
    },
    {
     "name": "stdout",
     "output_type": "stream",
     "text": [
      "func:'train'  took: 32.0851 sec\n"
     ]
    },
    {
     "name": "stderr",
     "output_type": "stream",
     "text": [
      "  2%|▏         | 1/50 [00:00<00:23,  2.09it/s]"
     ]
    },
    {
     "name": "stdout",
     "output_type": "stream",
     "text": [
      "Epoch 1/50 - Loss: 1.672 - Acc: 0.483\n",
      "              Val_loss: 1.661 - Val_acc: 0.489\n"
     ]
    },
    {
     "name": "stderr",
     "output_type": "stream",
     "text": [
      " 22%|██▏       | 11/50 [00:06<00:25,  1.56it/s]"
     ]
    },
    {
     "name": "stdout",
     "output_type": "stream",
     "text": [
      "Epoch 11/50 - Loss: 1.664 - Acc: 0.506\n",
      "              Val_loss: 1.664 - Val_acc: 0.505\n"
     ]
    },
    {
     "name": "stderr",
     "output_type": "stream",
     "text": [
      " 42%|████▏     | 21/50 [00:11<00:14,  1.97it/s]"
     ]
    },
    {
     "name": "stdout",
     "output_type": "stream",
     "text": [
      "Epoch 21/50 - Loss: 1.660 - Acc: 0.569\n",
      "              Val_loss: 1.663 - Val_acc: 0.569\n"
     ]
    },
    {
     "name": "stderr",
     "output_type": "stream",
     "text": [
      " 62%|██████▏   | 31/50 [00:18<00:12,  1.52it/s]"
     ]
    },
    {
     "name": "stdout",
     "output_type": "stream",
     "text": [
      "Epoch 31/50 - Loss: 1.657 - Acc: 0.580\n",
      "              Val_loss: 1.663 - Val_acc: 0.580\n"
     ]
    },
    {
     "name": "stderr",
     "output_type": "stream",
     "text": [
      " 82%|████████▏ | 41/50 [00:23<00:04,  2.02it/s]"
     ]
    },
    {
     "name": "stdout",
     "output_type": "stream",
     "text": [
      "Epoch 41/50 - Loss: 1.655 - Acc: 0.583\n",
      "              Val_loss: 1.664 - Val_acc: 0.579\n"
     ]
    },
    {
     "name": "stderr",
     "output_type": "stream",
     "text": [
      "                                               "
     ]
    },
    {
     "name": "stdout",
     "output_type": "stream",
     "text": [
      "func:'train'  took: 28.4268 sec\n"
     ]
    },
    {
     "name": "stderr",
     "output_type": "stream",
     "text": [
      "\r"
     ]
    }
   ],
   "source": [
    "# Split the dataset into 3-fold training and validation sets\n",
    "training_result_all = []\n",
    "kf = KFold(n_splits=3, shuffle=True, random_state=1)\n",
    "for train_index, val_index in kf.split(train_X_norm, train_y):\n",
    "    X_train, X_val = train_X_norm[train_index], train_X_norm[val_index]\n",
    "    y_train, y_val = train_y[train_index], train_y[val_index]\n",
    "    mlp = MLP()\n",
    "    ann_1_adam = Trainer(mlp, \"adam\", 2e-3, 50, 128, input_transform=lambda x: x,)\n",
    "    # Save model and choose the one with lowest loss and highest accuracy\n",
    "    training_result = ann_1_adam.train(X_train, y_train, X_val, y_val, \\\n",
    "                     early_stop=False, l2=False, silent=False)\n",
    "    training_result_all.append(training_result)"
   ]
  },
  {
   "cell_type": "code",
   "execution_count": 31,
   "metadata": {
    "colab": {
     "base_uri": "https://localhost:8080/"
    },
    "id": "sJ8NdnFKsJHo",
    "outputId": "bf5d1e5c-2571-441d-d546-881a0137aa43"
   },
   "outputs": [
    {
     "name": "stdout",
     "output_type": "stream",
     "text": [
      "Accuracy: 0.5806999802589417\n"
     ]
    },
    {
     "data": {
      "text/plain": [
       "(tensor(1.6666), tensor(0.5807))"
      ]
     },
     "execution_count": 31,
     "metadata": {},
     "output_type": "execute_result"
    }
   ],
   "source": [
    "ann_1_adam.evaluate(test_X_norm, test_y)"
   ]
  },
  {
   "cell_type": "code",
   "execution_count": 32,
   "metadata": {
    "colab": {
     "base_uri": "https://localhost:8080/",
     "height": 1000
    },
    "id": "87l5NlNBfmFS",
    "outputId": "5d1f712c-4225-487d-bad2-4c6f91129c87"
   },
   "outputs": [
    {
     "data": {
      "image/png": "[encoded data removed]",
      "text/plain": [
       "<Figure size 1296x1296 with 6 Axes>"
      ]
     },
     "metadata": {},
     "output_type": "display_data"
    }
   ],
   "source": [
    "fig, axes = plt.subplots(3, 2, figsize=(18,18))\n",
    "for i in range(len(training_result_all)):\n",
    "    axes[i][0].plot(training_result_all[i][\"losses\"], label = f\"training losses of {i+1}th run\")\n",
    "    axes[i][0].plot(training_result_all[i][\"val_losses\"], label = f\"validation losses of {i+1}th run\")\n",
    "    axes[i][0].legend()\n",
    "    axes[i][0].set_xlabel('epoch')\n",
    "    axes[i][1].plot(training_result_all[i][\"accuracies\"], label = f\"training accuracies of {i+1}th run\")\n",
    "    axes[i][1].plot(training_result_all[i][\"val_accuracies\"], label = f\"validation accuracies of {i+1}th run\")\n",
    "    axes[i][1].legend()\n",
    "    axes[i][1].set_xlabel('epoch') "
   ]
  },
  {
   "cell_type": "markdown",
   "metadata": {
    "id": "r87yhYj11b7Q"
   },
   "source": [
    "(d) After increasing the hidden layer size from 3 to 50, I noticed 2 big differences: 1) the training accuracies increased a lot from 0.5 to 0.98; 2) the training time is much longer, increasing from ~30 seconds to ~40 seconds.\n",
    "\n",
    "In total the bias of the new model is significantly lower and it applies to the testing dataset very well too.\n",
    "\n",
    "From what I read, the hidden layer size can affect the bias because it determines the number of parameters that the model can learn. In general a larger hidden layer size allows the model to learn more complex representations of the input data. Hence it allows the ANN model to capture paterns and relationships in the data. But the bias-variance tradeoff could start to happen when the hidden layer size is too large and leads to overfitting.\n",
    "\n",
    "In this case, after increasing the hidden layer size from 3 to 50, both bias and variance improve on training, validation and testing datasets. I haven't found any indication of overfitting yet.\n",
    "\n"
   ]
  },
  {
   "cell_type": "code",
   "execution_count": 33,
   "metadata": {
    "id": "J2RmSztXsoPD"
   },
   "outputs": [],
   "source": [
    "class MLP2(nn.Module):\n",
    "    def __init__(self):\n",
    "        super(MLP2, self).__init__()\n",
    "        self.layers = nn.Sequential(\n",
    "            nn.Flatten(),\n",
    "            nn.Linear(1024, 50),\n",
    "            nn.Sigmoid(),\n",
    "            nn.Linear(50, 10),\n",
    "            nn.Sigmoid()\n",
    "        )\n",
    "        \n",
    "    def forward(self, X):\n",
    "        return self.layers(X)"
   ]
  },
  {
   "cell_type": "code",
   "execution_count": 34,
   "metadata": {
    "colab": {
     "base_uri": "https://localhost:8080/"
    },
    "id": "i-BNnEc71nyH",
    "outputId": "ee70c8ca-e37d-4a1d-ccb7-1f6d80fc6994"
   },
   "outputs": [
    {
     "name": "stderr",
     "output_type": "stream",
     "text": [
      "  0%|          | 0/50 [00:00<?, ?it/s]<ipython-input-8-c6373bc9576a>:137: UserWarning: To copy construct from a tensor, it is recommended to use sourceTensor.clone().detach() or sourceTensor.clone().detach().requires_grad_(True), rather than torch.tensor(sourceTensor).\n",
      "  inputs = torch.tensor(inputs).float().clone().detach()\n",
      "<ipython-input-8-c6373bc9576a>:138: UserWarning: To copy construct from a tensor, it is recommended to use sourceTensor.clone().detach() or sourceTensor.clone().detach().requires_grad_(True), rather than torch.tensor(sourceTensor).\n",
      "  outputs = torch.tensor(outputs).long().clone().detach()\n",
      "  2%|▏         | 1/50 [00:01<01:06,  1.36s/it]"
     ]
    },
    {
     "name": "stdout",
     "output_type": "stream",
     "text": [
      "Epoch 1/50 - Loss: 1.824 - Acc: 0.793\n",
      "              Val_loss: 1.649 - Val_acc: 0.888\n"
     ]
    },
    {
     "name": "stderr",
     "output_type": "stream",
     "text": [
      " 22%|██▏       | 11/50 [00:09<00:33,  1.17it/s]"
     ]
    },
    {
     "name": "stdout",
     "output_type": "stream",
     "text": [
      "Epoch 11/50 - Loss: 1.511 - Acc: 0.952\n",
      "              Val_loss: 1.521 - Val_acc: 0.939\n"
     ]
    },
    {
     "name": "stderr",
     "output_type": "stream",
     "text": [
      " 42%|████▏     | 21/50 [00:17<00:22,  1.28it/s]"
     ]
    },
    {
     "name": "stdout",
     "output_type": "stream",
     "text": [
      "Epoch 21/50 - Loss: 1.493 - Acc: 0.968\n",
      "              Val_loss: 1.511 - Val_acc: 0.948\n"
     ]
    },
    {
     "name": "stderr",
     "output_type": "stream",
     "text": [
      " 62%|██████▏   | 31/50 [00:26<00:14,  1.29it/s]"
     ]
    },
    {
     "name": "stdout",
     "output_type": "stream",
     "text": [
      "Epoch 31/50 - Loss: 1.484 - Acc: 0.975\n",
      "              Val_loss: 1.508 - Val_acc: 0.953\n"
     ]
    },
    {
     "name": "stderr",
     "output_type": "stream",
     "text": [
      " 82%|████████▏ | 41/50 [00:34<00:07,  1.18it/s]"
     ]
    },
    {
     "name": "stdout",
     "output_type": "stream",
     "text": [
      "Epoch 41/50 - Loss: 1.479 - Acc: 0.980\n",
      "              Val_loss: 1.508 - Val_acc: 0.954\n"
     ]
    },
    {
     "name": "stderr",
     "output_type": "stream",
     "text": []
    },
    {
     "name": "stdout",
     "output_type": "stream",
     "text": [
      "func:'train'  took: 41.5278 sec\n"
     ]
    },
    {
     "name": "stderr",
     "output_type": "stream",
     "text": [
      "  2%|▏         | 1/50 [00:00<00:37,  1.32it/s]"
     ]
    },
    {
     "name": "stdout",
     "output_type": "stream",
     "text": [
      "Epoch 1/50 - Loss: 1.492 - Acc: 0.968\n",
      "              Val_loss: 1.481 - Val_acc: 0.979\n"
     ]
    },
    {
     "name": "stderr",
     "output_type": "stream",
     "text": [
      " 22%|██▏       | 11/50 [00:09<00:30,  1.29it/s]"
     ]
    },
    {
     "name": "stdout",
     "output_type": "stream",
     "text": [
      "Epoch 11/50 - Loss: 1.479 - Acc: 0.979\n",
      "              Val_loss: 1.484 - Val_acc: 0.977\n"
     ]
    },
    {
     "name": "stderr",
     "output_type": "stream",
     "text": [
      " 42%|████▏     | 21/50 [00:18<00:25,  1.13it/s]"
     ]
    },
    {
     "name": "stdout",
     "output_type": "stream",
     "text": [
      "Epoch 21/50 - Loss: 1.476 - Acc: 0.982\n",
      "              Val_loss: 1.486 - Val_acc: 0.975\n"
     ]
    },
    {
     "name": "stderr",
     "output_type": "stream",
     "text": [
      " 62%|██████▏   | 31/50 [00:28<00:20,  1.09s/it]"
     ]
    },
    {
     "name": "stdout",
     "output_type": "stream",
     "text": [
      "Epoch 31/50 - Loss: 1.474 - Acc: 0.984\n",
      "              Val_loss: 1.489 - Val_acc: 0.973\n"
     ]
    },
    {
     "name": "stderr",
     "output_type": "stream",
     "text": [
      " 82%|████████▏ | 41/50 [00:36<00:07,  1.28it/s]"
     ]
    },
    {
     "name": "stdout",
     "output_type": "stream",
     "text": [
      "Epoch 41/50 - Loss: 1.473 - Acc: 0.985\n",
      "              Val_loss: 1.491 - Val_acc: 0.972\n"
     ]
    },
    {
     "name": "stderr",
     "output_type": "stream",
     "text": []
    },
    {
     "name": "stdout",
     "output_type": "stream",
     "text": [
      "func:'train'  took: 45.3296 sec\n"
     ]
    },
    {
     "name": "stderr",
     "output_type": "stream",
     "text": [
      "  2%|▏         | 1/50 [00:00<00:37,  1.32it/s]"
     ]
    },
    {
     "name": "stdout",
     "output_type": "stream",
     "text": [
      "Epoch 1/50 - Loss: 1.484 - Acc: 0.977\n",
      "              Val_loss: 1.475 - Val_acc: 0.986\n"
     ]
    },
    {
     "name": "stderr",
     "output_type": "stream",
     "text": [
      " 22%|██▏       | 11/50 [00:09<00:35,  1.10it/s]"
     ]
    },
    {
     "name": "stdout",
     "output_type": "stream",
     "text": [
      "Epoch 11/50 - Loss: 1.475 - Acc: 0.983\n",
      "              Val_loss: 1.474 - Val_acc: 0.987\n"
     ]
    },
    {
     "name": "stderr",
     "output_type": "stream",
     "text": [
      " 42%|████▏     | 21/50 [00:17<00:22,  1.28it/s]"
     ]
    },
    {
     "name": "stdout",
     "output_type": "stream",
     "text": [
      "Epoch 21/50 - Loss: 1.473 - Acc: 0.984\n",
      "              Val_loss: 1.476 - Val_acc: 0.986\n"
     ]
    },
    {
     "name": "stderr",
     "output_type": "stream",
     "text": [
      " 62%|██████▏   | 31/50 [00:25<00:15,  1.22it/s]"
     ]
    },
    {
     "name": "stdout",
     "output_type": "stream",
     "text": [
      "Epoch 31/50 - Loss: 1.473 - Acc: 0.985\n",
      "              Val_loss: 1.478 - Val_acc: 0.984\n"
     ]
    },
    {
     "name": "stderr",
     "output_type": "stream",
     "text": [
      " 82%|████████▏ | 41/50 [00:34<00:08,  1.08it/s]"
     ]
    },
    {
     "name": "stdout",
     "output_type": "stream",
     "text": [
      "Epoch 41/50 - Loss: 1.472 - Acc: 0.986\n",
      "              Val_loss: 1.480 - Val_acc: 0.983\n"
     ]
    },
    {
     "name": "stderr",
     "output_type": "stream",
     "text": [
      "                                               "
     ]
    },
    {
     "name": "stdout",
     "output_type": "stream",
     "text": [
      "func:'train'  took: 42.0510 sec\n"
     ]
    },
    {
     "name": "stderr",
     "output_type": "stream",
     "text": [
      "\r"
     ]
    }
   ],
   "source": [
    "mlp2 = MLP2()\n",
    "ann_2_adam = Trainer(mlp2, \"adam\", 2e-3, 50, 128, input_transform=lambda x: x,)\n",
    "\n",
    "# Split the dataset into 3-fold training and validation sets\n",
    "training_result_all = []\n",
    "kf = KFold(n_splits=3, shuffle=True, random_state=1)\n",
    "for train_index, val_index in kf.split(train_X_norm, train_y):\n",
    "    X_train, X_val = train_X_norm[train_index], train_X_norm[val_index]\n",
    "    y_train, y_val = train_y[train_index], train_y[val_index]\n",
    "\n",
    "    training_result = ann_2_adam.train(X_train, y_train, X_val, y_val, \\\n",
    "                     early_stop=False, l2=False, silent=False)\n",
    "    training_result_all.append(training_result)"
   ]
  },
  {
   "cell_type": "code",
   "execution_count": 35,
   "metadata": {
    "colab": {
     "base_uri": "https://localhost:8080/"
    },
    "id": "IkZ7AIkz16MU",
    "outputId": "fadb7edd-6f5f-452d-818b-4932a2892ab7"
   },
   "outputs": [
    {
     "name": "stdout",
     "output_type": "stream",
     "text": [
      "Accuracy: 0.9611999988555908\n"
     ]
    },
    {
     "data": {
      "text/plain": [
       "(tensor(1.5040), tensor(0.9612))"
      ]
     },
     "execution_count": 35,
     "metadata": {},
     "output_type": "execute_result"
    }
   ],
   "source": [
    "ann_2_adam.evaluate(test_X_norm, test_y)"
   ]
  },
  {
   "cell_type": "code",
   "execution_count": 36,
   "metadata": {
    "colab": {
     "base_uri": "https://localhost:8080/",
     "height": 1000
    },
    "id": "HWbUbRwh2Nuh",
    "outputId": "b613322b-dbc6-47ad-bf51-ef8be509f817"
   },
   "outputs": [
    {
     "data": {
      "image/png": "[encoded data removed]",
      "text/plain": [
       "<Figure size 1296x1296 with 6 Axes>"
      ]
     },
     "metadata": {},
     "output_type": "display_data"
    }
   ],
   "source": [
    "fig, axes = plt.subplots(3, 2, figsize=(18,18))\n",
    "for i in range(len(training_result_all)):\n",
    "    axes[i][0].plot(training_result_all[i][\"losses\"], label = f\"training losses of {i+1}th run\")\n",
    "    axes[i][0].plot(training_result_all[i][\"val_losses\"], label = f\"validation losses of {i+1}th run\")\n",
    "    axes[i][0].legend()\n",
    "    axes[i][0].set_xlabel('epoch')\n",
    "    axes[i][1].plot(training_result_all[i][\"accuracies\"], label = f\"training accuracies of {i+1}th run\")\n",
    "    axes[i][1].plot(training_result_all[i][\"val_accuracies\"], label = f\"validation accuracies of {i+1}th run\")\n",
    "    axes[i][1].legend()\n",
    "    axes[i][1].set_xlabel('epoch') "
   ]
  },
  {
   "cell_type": "markdown",
   "metadata": {
    "id": "UqoN31kI4qqk"
   },
   "source": [
    "## 2. **Deep Learning and regularization**."
   ]
  },
  {
   "cell_type": "markdown",
   "metadata": {
    "id": "fvEITN0V43wG"
   },
   "source": [
    "(a) I modified the ANN and added a dropout layer with 15% probability after the hidden layer. From what I read and the tutorial this is to prevent overfitting. The end result is actually worse than the ANN without the dropout layer. I have tabulated the training / validation / test accuracies below.\n",
    "\n",
    "Category | Training Accuracy | Validation Accuracy | Test Accuracy | Run Time(seconds)\n",
    "--- | --- | --- | --- | ---\n",
    "1c: Hidden Layer=3 | 0.583 | 0.579 | 0.581 | 28.4\n",
    "1d: Hidden Layer=50 | 0.986 | 0.983 | 0.961 | 42.1\n",
    "2a: 1d + 15% dropout | 0.976 | 0.970 | 0.956 | 43.6\n",
    "\n",
    "From the comparison, it's very clear that 15% dropout didn't really help the accuracy and the application to test accuracy. Which is consistent with 1d's observation that the ANN is not overfitting yet. The run time actually increased a little likely due to the random dropping step."
   ]
  },
  {
   "cell_type": "code",
   "execution_count": 37,
   "metadata": {
    "id": "_CFXBJx_2t7I"
   },
   "outputs": [],
   "source": [
    "class MLP2_dropout(nn.Module):\n",
    "    def __init__(self):\n",
    "        super(MLP2_dropout, self).__init__()\n",
    "        self.layers = nn.Sequential(\n",
    "            nn.Flatten(),\n",
    "            nn.Linear(1024, 50),\n",
    "            nn.Sigmoid(),\n",
    "\n",
    "            # Add a dropout layer with 15% probability\n",
    "            nn.Dropout(p=0.15),\n",
    "\n",
    "            nn.Linear(50, 10),\n",
    "            nn.Sigmoid()\n",
    "        )\n",
    "        \n",
    "    def forward(self, X):\n",
    "        return self.layers(X)"
   ]
  },
  {
   "cell_type": "code",
   "execution_count": 38,
   "metadata": {
    "colab": {
     "base_uri": "https://localhost:8080/"
    },
    "id": "gAcqr4Ev6fUX",
    "outputId": "1a70bf7f-c3e2-48e4-f3bb-f83147f16bb8"
   },
   "outputs": [
    {
     "name": "stderr",
     "output_type": "stream",
     "text": [
      "  0%|          | 0/50 [00:00<?, ?it/s]<ipython-input-8-c6373bc9576a>:137: UserWarning: To copy construct from a tensor, it is recommended to use sourceTensor.clone().detach() or sourceTensor.clone().detach().requires_grad_(True), rather than torch.tensor(sourceTensor).\n",
      "  inputs = torch.tensor(inputs).float().clone().detach()\n",
      "<ipython-input-8-c6373bc9576a>:138: UserWarning: To copy construct from a tensor, it is recommended to use sourceTensor.clone().detach() or sourceTensor.clone().detach().requires_grad_(True), rather than torch.tensor(sourceTensor).\n",
      "  outputs = torch.tensor(outputs).long().clone().detach()\n",
      "  2%|▏         | 1/50 [00:01<00:50,  1.03s/it]"
     ]
    },
    {
     "name": "stdout",
     "output_type": "stream",
     "text": [
      "Epoch 1/50 - Loss: 1.839 - Acc: 0.777\n",
      "              Val_loss: 1.662 - Val_acc: 0.874\n"
     ]
    },
    {
     "name": "stderr",
     "output_type": "stream",
     "text": [
      " 22%|██▏       | 11/50 [00:09<00:31,  1.25it/s]"
     ]
    },
    {
     "name": "stdout",
     "output_type": "stream",
     "text": [
      "Epoch 11/50 - Loss: 1.522 - Acc: 0.943\n",
      "              Val_loss: 1.530 - Val_acc: 0.934\n"
     ]
    },
    {
     "name": "stderr",
     "output_type": "stream",
     "text": [
      " 42%|████▏     | 21/50 [00:18<00:27,  1.05it/s]"
     ]
    },
    {
     "name": "stdout",
     "output_type": "stream",
     "text": [
      "Epoch 21/50 - Loss: 1.506 - Acc: 0.957\n",
      "              Val_loss: 1.519 - Val_acc: 0.941\n"
     ]
    },
    {
     "name": "stderr",
     "output_type": "stream",
     "text": [
      " 62%|██████▏   | 31/50 [00:28<00:16,  1.14it/s]"
     ]
    },
    {
     "name": "stdout",
     "output_type": "stream",
     "text": [
      "Epoch 31/50 - Loss: 1.498 - Acc: 0.963\n",
      "              Val_loss: 1.515 - Val_acc: 0.945\n"
     ]
    },
    {
     "name": "stderr",
     "output_type": "stream",
     "text": [
      " 82%|████████▏ | 41/50 [00:37<00:08,  1.05it/s]"
     ]
    },
    {
     "name": "stdout",
     "output_type": "stream",
     "text": [
      "Epoch 41/50 - Loss: 1.493 - Acc: 0.969\n",
      "              Val_loss: 1.512 - Val_acc: 0.947\n"
     ]
    },
    {
     "name": "stderr",
     "output_type": "stream",
     "text": []
    },
    {
     "name": "stdout",
     "output_type": "stream",
     "text": [
      "func:'train'  took: 44.6958 sec\n"
     ]
    },
    {
     "name": "stderr",
     "output_type": "stream",
     "text": [
      "  2%|▏         | 1/50 [00:00<00:40,  1.21it/s]"
     ]
    },
    {
     "name": "stdout",
     "output_type": "stream",
     "text": [
      "Epoch 1/50 - Loss: 1.500 - Acc: 0.960\n",
      "              Val_loss: 1.493 - Val_acc: 0.968\n"
     ]
    },
    {
     "name": "stderr",
     "output_type": "stream",
     "text": [
      " 22%|██▏       | 11/50 [00:09<00:34,  1.14it/s]"
     ]
    },
    {
     "name": "stdout",
     "output_type": "stream",
     "text": [
      "Epoch 11/50 - Loss: 1.493 - Acc: 0.967\n",
      "              Val_loss: 1.496 - Val_acc: 0.964\n"
     ]
    },
    {
     "name": "stderr",
     "output_type": "stream",
     "text": [
      " 42%|████▏     | 21/50 [00:18<00:27,  1.05it/s]"
     ]
    },
    {
     "name": "stdout",
     "output_type": "stream",
     "text": [
      "Epoch 21/50 - Loss: 1.489 - Acc: 0.971\n",
      "              Val_loss: 1.498 - Val_acc: 0.962\n"
     ]
    },
    {
     "name": "stderr",
     "output_type": "stream",
     "text": [
      " 62%|██████▏   | 31/50 [00:27<00:15,  1.23it/s]"
     ]
    },
    {
     "name": "stdout",
     "output_type": "stream",
     "text": [
      "Epoch 31/50 - Loss: 1.487 - Acc: 0.973\n",
      "              Val_loss: 1.498 - Val_acc: 0.962\n"
     ]
    },
    {
     "name": "stderr",
     "output_type": "stream",
     "text": [
      " 82%|████████▏ | 41/50 [00:35<00:07,  1.25it/s]"
     ]
    },
    {
     "name": "stdout",
     "output_type": "stream",
     "text": [
      "Epoch 41/50 - Loss: 1.486 - Acc: 0.975\n",
      "              Val_loss: 1.500 - Val_acc: 0.960\n"
     ]
    },
    {
     "name": "stderr",
     "output_type": "stream",
     "text": []
    },
    {
     "name": "stdout",
     "output_type": "stream",
     "text": [
      "func:'train'  took: 44.1680 sec\n"
     ]
    },
    {
     "name": "stderr",
     "output_type": "stream",
     "text": [
      "  2%|▏         | 1/50 [00:00<00:39,  1.24it/s]"
     ]
    },
    {
     "name": "stdout",
     "output_type": "stream",
     "text": [
      "Epoch 1/50 - Loss: 1.493 - Acc: 0.967\n",
      "              Val_loss: 1.484 - Val_acc: 0.978\n"
     ]
    },
    {
     "name": "stderr",
     "output_type": "stream",
     "text": [
      " 22%|██▏       | 11/50 [00:08<00:31,  1.23it/s]"
     ]
    },
    {
     "name": "stdout",
     "output_type": "stream",
     "text": [
      "Epoch 11/50 - Loss: 1.488 - Acc: 0.971\n",
      "              Val_loss: 1.485 - Val_acc: 0.976\n"
     ]
    },
    {
     "name": "stderr",
     "output_type": "stream",
     "text": [
      " 42%|████▏     | 21/50 [00:17<00:23,  1.23it/s]"
     ]
    },
    {
     "name": "stdout",
     "output_type": "stream",
     "text": [
      "Epoch 21/50 - Loss: 1.486 - Acc: 0.975\n",
      "              Val_loss: 1.487 - Val_acc: 0.975\n"
     ]
    },
    {
     "name": "stderr",
     "output_type": "stream",
     "text": [
      " 62%|██████▏   | 31/50 [00:26<00:16,  1.12it/s]"
     ]
    },
    {
     "name": "stdout",
     "output_type": "stream",
     "text": [
      "Epoch 31/50 - Loss: 1.485 - Acc: 0.975\n",
      "              Val_loss: 1.489 - Val_acc: 0.971\n"
     ]
    },
    {
     "name": "stderr",
     "output_type": "stream",
     "text": [
      " 82%|████████▏ | 41/50 [00:35<00:09,  1.03s/it]"
     ]
    },
    {
     "name": "stdout",
     "output_type": "stream",
     "text": [
      "Epoch 41/50 - Loss: 1.483 - Acc: 0.976\n",
      "              Val_loss: 1.491 - Val_acc: 0.970\n"
     ]
    },
    {
     "name": "stderr",
     "output_type": "stream",
     "text": [
      "                                               "
     ]
    },
    {
     "name": "stdout",
     "output_type": "stream",
     "text": [
      "func:'train'  took: 43.6335 sec\n"
     ]
    },
    {
     "name": "stderr",
     "output_type": "stream",
     "text": [
      "\r"
     ]
    }
   ],
   "source": [
    "mlp2_dropout = MLP2_dropout()\n",
    "ann_3_adam = Trainer(mlp2_dropout, \"adam\", 2e-3, 50, 128, input_transform=lambda x: x,)\n",
    "\n",
    "# Split the dataset into 3-fold training and validation sets\n",
    "training_result_all = []\n",
    "kf = KFold(n_splits=3, shuffle=True, random_state=1)\n",
    "for train_index, val_index in kf.split(train_X_norm, train_y):\n",
    "    X_train, X_val = train_X_norm[train_index], train_X_norm[val_index]\n",
    "    y_train, y_val = train_y[train_index], train_y[val_index]\n",
    "\n",
    "    training_result = ann_3_adam.train(X_train, y_train, X_val, y_val, \\\n",
    "                     early_stop=False, l2=False, silent=False)\n",
    "    training_result_all.append(training_result)"
   ]
  },
  {
   "cell_type": "code",
   "execution_count": 39,
   "metadata": {
    "colab": {
     "base_uri": "https://localhost:8080/"
    },
    "id": "8DpntYlY6x4E",
    "outputId": "9af90f55-cfe9-42fa-9aaf-58fcc07c9698"
   },
   "outputs": [
    {
     "name": "stdout",
     "output_type": "stream",
     "text": [
      "Accuracy: 0.9559999704360962\n"
     ]
    },
    {
     "data": {
      "text/plain": [
       "(tensor(1.5065), tensor(0.9560))"
      ]
     },
     "execution_count": 39,
     "metadata": {},
     "output_type": "execute_result"
    }
   ],
   "source": [
    "ann_3_adam.evaluate(test_X_norm, test_y)"
   ]
  },
  {
   "cell_type": "markdown",
   "metadata": {
    "id": "O0vAmIwE-taF"
   },
   "source": [
    "(b) From the tabulated results, l2 regularization improved the accuracy a little (maybe not significant), but increased the run time by almost 2X.\n",
    "\n",
    "Category | Training Accuracy | Validation Accuracy | Test Accuracy | Run Time(seconds)\n",
    "--- | --- | --- | --- | ---\n",
    "1c: Hidden Layer=3 | 0.583 | 0.579 | 0.581 | 28.4\n",
    "1d: Hidden Layer=50 | 0.986 | 0.983 | 0.961 | 42.1\n",
    "2a: 1d + 15% dropout | 0.976 | 0.970 | 0.956 | 43.6\n",
    "2b: 1d + l2 | 0.988 | 0.988 | 0.962 | 78.9\n",
    "\n",
    "From what I read, L2 regularization adds a penalty term to the loss function of the neural network to penalize the weights if they are too large. This method helps prevent overfitting by reducing the complexity of the model and promoting weight values that are more generalizable. But the step of adding regularization increases the training and computation complexity. The loss function with regularization now needs to be computed and backpropagated in each epoch / batch.\n",
    "\n",
    "In our case, the benefit of adding L2 regularization doesn't seem very big. Likely because the ANN is not overfitting."
   ]
  },
  {
   "cell_type": "code",
   "execution_count": 41,
   "metadata": {
    "colab": {
     "base_uri": "https://localhost:8080/"
    },
    "id": "wh6f1p6h63Qb",
    "outputId": "0c6d4643-85d1-43bd-ce6c-a2a221a440ba"
   },
   "outputs": [
    {
     "name": "stderr",
     "output_type": "stream",
     "text": [
      "  0%|          | 0/50 [00:00<?, ?it/s]<ipython-input-40-58e0eb1bad63>:137: UserWarning: To copy construct from a tensor, it is recommended to use sourceTensor.clone().detach() or sourceTensor.clone().detach().requires_grad_(True), rather than torch.tensor(sourceTensor).\n",
      "  inputs = torch.tensor(inputs).float().clone().detach()\n",
      "<ipython-input-40-58e0eb1bad63>:138: UserWarning: To copy construct from a tensor, it is recommended to use sourceTensor.clone().detach() or sourceTensor.clone().detach().requires_grad_(True), rather than torch.tensor(sourceTensor).\n",
      "  outputs = torch.tensor(outputs).long().clone().detach()\n",
      "  2%|▏         | 1/50 [00:01<00:55,  1.12s/it]"
     ]
    },
    {
     "name": "stdout",
     "output_type": "stream",
     "text": [
      "Epoch 1/50 - Loss: 1.479 - Acc: 0.985\n",
      "              Val_loss: 1.472 - Val_acc: 0.987\n"
     ]
    },
    {
     "name": "stderr",
     "output_type": "stream",
     "text": [
      " 22%|██▏       | 11/50 [00:10<00:36,  1.07it/s]"
     ]
    },
    {
     "name": "stdout",
     "output_type": "stream",
     "text": [
      "Epoch 11/50 - Loss: 1.474 - Acc: 0.987\n",
      "              Val_loss: 1.474 - Val_acc: 0.985\n"
     ]
    },
    {
     "name": "stderr",
     "output_type": "stream",
     "text": [
      " 42%|████▏     | 21/50 [00:23<00:39,  1.35s/it]"
     ]
    },
    {
     "name": "stdout",
     "output_type": "stream",
     "text": [
      "Epoch 21/50 - Loss: 1.473 - Acc: 0.988\n",
      "              Val_loss: 1.476 - Val_acc: 0.984\n"
     ]
    },
    {
     "name": "stderr",
     "output_type": "stream",
     "text": [
      " 62%|██████▏   | 31/50 [00:36<00:25,  1.33s/it]"
     ]
    },
    {
     "name": "stdout",
     "output_type": "stream",
     "text": [
      "Epoch 31/50 - Loss: 1.473 - Acc: 0.988\n",
      "              Val_loss: 1.479 - Val_acc: 0.983\n"
     ]
    },
    {
     "name": "stderr",
     "output_type": "stream",
     "text": [
      " 82%|████████▏ | 41/50 [00:49<00:11,  1.31s/it]"
     ]
    },
    {
     "name": "stdout",
     "output_type": "stream",
     "text": [
      "Epoch 41/50 - Loss: 1.472 - Acc: 0.988\n",
      "              Val_loss: 1.481 - Val_acc: 0.982\n"
     ]
    },
    {
     "name": "stderr",
     "output_type": "stream",
     "text": []
    },
    {
     "name": "stdout",
     "output_type": "stream",
     "text": [
      "func:'train'  took: 62.0513 sec\n"
     ]
    },
    {
     "name": "stderr",
     "output_type": "stream",
     "text": [
      "  2%|▏         | 1/50 [00:01<01:01,  1.26s/it]"
     ]
    },
    {
     "name": "stdout",
     "output_type": "stream",
     "text": [
      "Epoch 1/50 - Loss: 1.480 - Acc: 0.984\n",
      "              Val_loss: 1.473 - Val_acc: 0.988\n"
     ]
    },
    {
     "name": "stderr",
     "output_type": "stream",
     "text": [
      " 22%|██▏       | 11/50 [00:14<00:51,  1.32s/it]"
     ]
    },
    {
     "name": "stdout",
     "output_type": "stream",
     "text": [
      "Epoch 11/50 - Loss: 1.473 - Acc: 0.988\n",
      "              Val_loss: 1.473 - Val_acc: 0.988\n"
     ]
    },
    {
     "name": "stderr",
     "output_type": "stream",
     "text": [
      " 42%|████▏     | 21/50 [00:28<00:38,  1.33s/it]"
     ]
    },
    {
     "name": "stdout",
     "output_type": "stream",
     "text": [
      "Epoch 21/50 - Loss: 1.472 - Acc: 0.988\n",
      "              Val_loss: 1.475 - Val_acc: 0.986\n"
     ]
    },
    {
     "name": "stderr",
     "output_type": "stream",
     "text": [
      " 62%|██████▏   | 31/50 [00:45<00:38,  2.04s/it]"
     ]
    },
    {
     "name": "stdout",
     "output_type": "stream",
     "text": [
      "Epoch 31/50 - Loss: 1.472 - Acc: 0.989\n",
      "              Val_loss: 1.477 - Val_acc: 0.985\n"
     ]
    },
    {
     "name": "stderr",
     "output_type": "stream",
     "text": [
      " 82%|████████▏ | 41/50 [01:00<00:13,  1.56s/it]"
     ]
    },
    {
     "name": "stdout",
     "output_type": "stream",
     "text": [
      "Epoch 41/50 - Loss: 1.472 - Acc: 0.989\n",
      "              Val_loss: 1.479 - Val_acc: 0.984\n"
     ]
    },
    {
     "name": "stderr",
     "output_type": "stream",
     "text": []
    },
    {
     "name": "stdout",
     "output_type": "stream",
     "text": [
      "func:'train'  took: 74.8374 sec\n"
     ]
    },
    {
     "name": "stderr",
     "output_type": "stream",
     "text": [
      "  2%|▏         | 1/50 [00:01<01:10,  1.45s/it]"
     ]
    },
    {
     "name": "stdout",
     "output_type": "stream",
     "text": [
      "Epoch 1/50 - Loss: 1.479 - Acc: 0.984\n",
      "              Val_loss: 1.470 - Val_acc: 0.990\n"
     ]
    },
    {
     "name": "stderr",
     "output_type": "stream",
     "text": [
      " 22%|██▏       | 11/50 [00:16<00:55,  1.42s/it]"
     ]
    },
    {
     "name": "stdout",
     "output_type": "stream",
     "text": [
      "Epoch 11/50 - Loss: 1.473 - Acc: 0.988\n",
      "              Val_loss: 1.470 - Val_acc: 0.990\n"
     ]
    },
    {
     "name": "stderr",
     "output_type": "stream",
     "text": [
      " 42%|████▏     | 21/50 [00:31<00:44,  1.55s/it]"
     ]
    },
    {
     "name": "stdout",
     "output_type": "stream",
     "text": [
      "Epoch 21/50 - Loss: 1.473 - Acc: 0.988\n",
      "              Val_loss: 1.471 - Val_acc: 0.989\n"
     ]
    },
    {
     "name": "stderr",
     "output_type": "stream",
     "text": [
      " 62%|██████▏   | 31/50 [00:46<00:30,  1.59s/it]"
     ]
    },
    {
     "name": "stdout",
     "output_type": "stream",
     "text": [
      "Epoch 31/50 - Loss: 1.473 - Acc: 0.988\n",
      "              Val_loss: 1.473 - Val_acc: 0.989\n"
     ]
    },
    {
     "name": "stderr",
     "output_type": "stream",
     "text": [
      " 82%|████████▏ | 41/50 [01:03<00:15,  1.67s/it]"
     ]
    },
    {
     "name": "stdout",
     "output_type": "stream",
     "text": [
      "Epoch 41/50 - Loss: 1.472 - Acc: 0.988\n",
      "              Val_loss: 1.475 - Val_acc: 0.988\n"
     ]
    },
    {
     "name": "stderr",
     "output_type": "stream",
     "text": [
      "                                               "
     ]
    },
    {
     "name": "stdout",
     "output_type": "stream",
     "text": [
      "func:'train'  took: 78.8620 sec\n"
     ]
    },
    {
     "name": "stderr",
     "output_type": "stream",
     "text": [
      "\r"
     ]
    }
   ],
   "source": [
    "ann_2_adam_l2 = Trainer(mlp2, \"adam\", 2e-3, 50, 128, input_transform=lambda x: x,)\n",
    "\n",
    "# Split the dataset into 3-fold training and validation sets\n",
    "training_result_all = []\n",
    "kf = KFold(n_splits=3, shuffle=True, random_state=1)\n",
    "for train_index, val_index in kf.split(train_X_norm, train_y):\n",
    "    X_train, X_val = train_X_norm[train_index], train_X_norm[val_index]\n",
    "    y_train, y_val = train_y[train_index], train_y[val_index]\n",
    "\n",
    "    training_result = ann_2_adam_l2.train(X_train, y_train, X_val, y_val, \\\n",
    "                     early_stop=False, l2=True, silent=False)\n",
    "    training_result_all.append(training_result)"
   ]
  },
  {
   "cell_type": "code",
   "execution_count": 43,
   "metadata": {
    "colab": {
     "base_uri": "https://localhost:8080/"
    },
    "id": "dvSSNU2X-4w1",
    "outputId": "afcdfda4-abcb-435c-d01c-205eac6ea325"
   },
   "outputs": [
    {
     "name": "stdout",
     "output_type": "stream",
     "text": [
      "Accuracy: 0.9623000025749207\n"
     ]
    },
    {
     "data": {
      "text/plain": [
       "(tensor(1.5031), tensor(0.9623))"
      ]
     },
     "execution_count": 43,
     "metadata": {},
     "output_type": "execute_result"
    }
   ],
   "source": [
    "ann_2_adam_l2.evaluate(test_X_norm, test_y)"
   ]
  },
  {
   "cell_type": "markdown",
   "metadata": {
    "id": "5uunwqlnYhtF"
   },
   "source": [
    "(c) I used pca to transform the Train_X_norm dataset with 99% variance kept. Then I fit the pca model to the test_X_norm dataset. The features decreased from 1024 to 331. I modified the ANN model and changed the 1st layer from 1024 to 331 then ran the training.\n",
    "\n",
    "The results are summarized below:\n",
    "\n",
    "\n",
    "Category | Training Accuracy | Validation Accuracy | Test Accuracy | Run Time(seconds)\n",
    "--- | --- | --- | --- | ---\n",
    "1c: Hidden Layer=3 | 0.583 | 0.579 | 0.581 | 28.4\n",
    "1d: Hidden Layer=50 | 0.986 | 0.983 | 0.961 | 42.1\n",
    "2a: 1d + 15% dropout | 0.976 | 0.970 | 0.956 | 43.6\n",
    "2b: 1d + l2 | 0.988 | 0.988 | 0.962 | 78.9\n",
    "2c: 1d + pca | 0.981 | 0.980 | 0.955 | 24.2\n",
    "\n",
    "Overall the pca method works almost as well as the original ANN from 1d. The time is much shorter now because we have less features to fit. The accuracies are comparable. I think it's a good data transformation technique."
   ]
  },
  {
   "cell_type": "code",
   "execution_count": 59,
   "metadata": {
    "colab": {
     "base_uri": "https://localhost:8080/"
    },
    "id": "PGQWqeVECmNU",
    "outputId": "d0557c58-59c3-4021-fb23-8289b3542ad6"
   },
   "outputs": [
    {
     "name": "stdout",
     "output_type": "stream",
     "text": [
      "train_X shape after PCA transformation:  (60000, 331)\n",
      "test_X shape after PCA transformation:  (10000, 331)\n"
     ]
    }
   ],
   "source": [
    "pca = PCA(0.99)\n",
    "train_X_pca = pca.fit_transform(train_X_norm.reshape(60000, 1024))\n",
    "test_X_pca = pca.transform(test_X_norm.reshape(10000, 1024))\n",
    "print(\"train_X shape after PCA transformation: \", train_X_pca.shape)\n",
    "print(\"test_X shape after PCA transformation: \", test_X_pca.shape)"
   ]
  },
  {
   "cell_type": "code",
   "execution_count": 61,
   "metadata": {
    "id": "Y0S2yH--eNVo"
   },
   "outputs": [],
   "source": [
    "class MLP2_pca(nn.Module):\n",
    "    def __init__(self):\n",
    "        super(MLP2_pca, self).__init__()\n",
    "        self.layers = nn.Sequential(\n",
    "            nn.Flatten(),\n",
    "            nn.Linear(331, 50),\n",
    "            nn.Sigmoid(),\n",
    "            nn.Linear(50, 10),\n",
    "            nn.Sigmoid()\n",
    "        )\n",
    "        \n",
    "    def forward(self, X):\n",
    "        return self.layers(X)"
   ]
  },
  {
   "cell_type": "code",
   "execution_count": 62,
   "metadata": {
    "colab": {
     "base_uri": "https://localhost:8080/"
    },
    "id": "UkFhP9M4ab63",
    "outputId": "102f7b8e-e19d-47c7-e33d-9ca0d45370bd"
   },
   "outputs": [
    {
     "name": "stderr",
     "output_type": "stream",
     "text": [
      "  0%|          | 0/50 [00:00<?, ?it/s]<ipython-input-40-58e0eb1bad63>:137: UserWarning: To copy construct from a tensor, it is recommended to use sourceTensor.clone().detach() or sourceTensor.clone().detach().requires_grad_(True), rather than torch.tensor(sourceTensor).\n",
      "  inputs = torch.tensor(inputs).float().clone().detach()\n",
      "<ipython-input-40-58e0eb1bad63>:138: UserWarning: To copy construct from a tensor, it is recommended to use sourceTensor.clone().detach() or sourceTensor.clone().detach().requires_grad_(True), rather than torch.tensor(sourceTensor).\n",
      "  outputs = torch.tensor(outputs).long().clone().detach()\n",
      "  2%|▏         | 1/50 [00:00<00:21,  2.25it/s]"
     ]
    },
    {
     "name": "stdout",
     "output_type": "stream",
     "text": [
      "Epoch 1/50 - Loss: 1.933 - Acc: 0.774\n",
      "              Val_loss: 1.688 - Val_acc: 0.887\n"
     ]
    },
    {
     "name": "stderr",
     "output_type": "stream",
     "text": [
      " 22%|██▏       | 11/50 [00:05<00:17,  2.17it/s]"
     ]
    },
    {
     "name": "stdout",
     "output_type": "stream",
     "text": [
      "Epoch 11/50 - Loss: 1.518 - Acc: 0.947\n",
      "              Val_loss: 1.531 - Val_acc: 0.933\n"
     ]
    },
    {
     "name": "stderr",
     "output_type": "stream",
     "text": [
      " 42%|████▏     | 21/50 [00:09<00:12,  2.35it/s]"
     ]
    },
    {
     "name": "stdout",
     "output_type": "stream",
     "text": [
      "Epoch 21/50 - Loss: 1.498 - Acc: 0.962\n",
      "              Val_loss: 1.521 - Val_acc: 0.941\n"
     ]
    },
    {
     "name": "stderr",
     "output_type": "stream",
     "text": [
      " 62%|██████▏   | 31/50 [00:14<00:08,  2.19it/s]"
     ]
    },
    {
     "name": "stdout",
     "output_type": "stream",
     "text": [
      "Epoch 31/50 - Loss: 1.489 - Acc: 0.970\n",
      "              Val_loss: 1.518 - Val_acc: 0.944\n"
     ]
    },
    {
     "name": "stderr",
     "output_type": "stream",
     "text": [
      " 82%|████████▏ | 41/50 [00:19<00:03,  2.26it/s]"
     ]
    },
    {
     "name": "stdout",
     "output_type": "stream",
     "text": [
      "Epoch 41/50 - Loss: 1.483 - Acc: 0.975\n",
      "              Val_loss: 1.518 - Val_acc: 0.945\n"
     ]
    },
    {
     "name": "stderr",
     "output_type": "stream",
     "text": []
    },
    {
     "name": "stdout",
     "output_type": "stream",
     "text": [
      "func:'train'  took: 22.9156 sec\n"
     ]
    },
    {
     "name": "stderr",
     "output_type": "stream",
     "text": [
      "  2%|▏         | 1/50 [00:00<00:21,  2.31it/s]"
     ]
    },
    {
     "name": "stdout",
     "output_type": "stream",
     "text": [
      "Epoch 1/50 - Loss: 1.497 - Acc: 0.963\n",
      "              Val_loss: 1.484 - Val_acc: 0.976\n"
     ]
    },
    {
     "name": "stderr",
     "output_type": "stream",
     "text": [
      " 22%|██▏       | 11/50 [00:05<00:21,  1.85it/s]"
     ]
    },
    {
     "name": "stdout",
     "output_type": "stream",
     "text": [
      "Epoch 11/50 - Loss: 1.483 - Acc: 0.975\n",
      "              Val_loss: 1.489 - Val_acc: 0.973\n"
     ]
    },
    {
     "name": "stderr",
     "output_type": "stream",
     "text": [
      " 42%|████▏     | 21/50 [00:09<00:12,  2.33it/s]"
     ]
    },
    {
     "name": "stdout",
     "output_type": "stream",
     "text": [
      "Epoch 21/50 - Loss: 1.479 - Acc: 0.978\n",
      "              Val_loss: 1.495 - Val_acc: 0.969\n"
     ]
    },
    {
     "name": "stderr",
     "output_type": "stream",
     "text": [
      " 62%|██████▏   | 31/50 [00:13<00:07,  2.38it/s]"
     ]
    },
    {
     "name": "stdout",
     "output_type": "stream",
     "text": [
      "Epoch 31/50 - Loss: 1.477 - Acc: 0.980\n",
      "              Val_loss: 1.499 - Val_acc: 0.966\n"
     ]
    },
    {
     "name": "stderr",
     "output_type": "stream",
     "text": [
      " 82%|████████▏ | 41/50 [00:18<00:04,  1.91it/s]"
     ]
    },
    {
     "name": "stdout",
     "output_type": "stream",
     "text": [
      "Epoch 41/50 - Loss: 1.476 - Acc: 0.981\n",
      "              Val_loss: 1.502 - Val_acc: 0.964\n"
     ]
    },
    {
     "name": "stderr",
     "output_type": "stream",
     "text": []
    },
    {
     "name": "stdout",
     "output_type": "stream",
     "text": [
      "func:'train'  took: 22.9999 sec\n"
     ]
    },
    {
     "name": "stderr",
     "output_type": "stream",
     "text": [
      "  2%|▏         | 1/50 [00:00<00:21,  2.25it/s]"
     ]
    },
    {
     "name": "stdout",
     "output_type": "stream",
     "text": [
      "Epoch 1/50 - Loss: 1.490 - Acc: 0.970\n",
      "              Val_loss: 1.474 - Val_acc: 0.986\n"
     ]
    },
    {
     "name": "stderr",
     "output_type": "stream",
     "text": [
      " 22%|██▏       | 11/50 [00:04<00:16,  2.37it/s]"
     ]
    },
    {
     "name": "stdout",
     "output_type": "stream",
     "text": [
      "Epoch 11/50 - Loss: 1.479 - Acc: 0.978\n",
      "              Val_loss: 1.475 - Val_acc: 0.985\n"
     ]
    },
    {
     "name": "stderr",
     "output_type": "stream",
     "text": [
      " 42%|████▏     | 21/50 [00:11<00:13,  2.13it/s]"
     ]
    },
    {
     "name": "stdout",
     "output_type": "stream",
     "text": [
      "Epoch 21/50 - Loss: 1.477 - Acc: 0.979\n",
      "              Val_loss: 1.479 - Val_acc: 0.983\n"
     ]
    },
    {
     "name": "stderr",
     "output_type": "stream",
     "text": [
      " 62%|██████▏   | 31/50 [00:15<00:08,  2.35it/s]"
     ]
    },
    {
     "name": "stdout",
     "output_type": "stream",
     "text": [
      "Epoch 31/50 - Loss: 1.476 - Acc: 0.981\n",
      "              Val_loss: 1.483 - Val_acc: 0.982\n"
     ]
    },
    {
     "name": "stderr",
     "output_type": "stream",
     "text": [
      " 82%|████████▏ | 41/50 [00:20<00:04,  1.82it/s]"
     ]
    },
    {
     "name": "stdout",
     "output_type": "stream",
     "text": [
      "Epoch 41/50 - Loss: 1.476 - Acc: 0.981\n",
      "              Val_loss: 1.486 - Val_acc: 0.980\n"
     ]
    },
    {
     "name": "stderr",
     "output_type": "stream",
     "text": [
      "                                               "
     ]
    },
    {
     "name": "stdout",
     "output_type": "stream",
     "text": [
      "func:'train'  took: 24.2085 sec\n"
     ]
    },
    {
     "name": "stderr",
     "output_type": "stream",
     "text": [
      "\r"
     ]
    }
   ],
   "source": [
    "MLP2_pca = MLP2_pca()\n",
    "ann_2_adam_pca = Trainer(MLP2_pca, \"adam\", 2e-3, 50, 128, input_transform=lambda x: x,)\n",
    "\n",
    "# Split the dataset into 3-fold training and validation sets\n",
    "training_result_all = []\n",
    "kf = KFold(n_splits=3, shuffle=True, random_state=1)\n",
    "for train_index, val_index in kf.split(train_X_pca, train_y):\n",
    "    X_train, X_val = train_X_pca[train_index], train_X_pca[val_index]\n",
    "    y_train, y_val = train_y[train_index], train_y[val_index]\n",
    "\n",
    "    training_result = ann_2_adam_pca.train(X_train, y_train, X_val, y_val, \\\n",
    "                     early_stop=False, l2=False, silent=False)\n",
    "    training_result_all.append(training_result)"
   ]
  },
  {
   "cell_type": "code",
   "execution_count": 63,
   "metadata": {
    "colab": {
     "base_uri": "https://localhost:8080/"
    },
    "id": "FJGZuvqqeEJK",
    "outputId": "578db80d-075e-482b-89c7-b53d597e196d"
   },
   "outputs": [
    {
     "name": "stdout",
     "output_type": "stream",
     "text": [
      "Accuracy: 0.9545000195503235\n"
     ]
    },
    {
     "data": {
      "text/plain": [
       "(tensor(1.5128), tensor(0.9545))"
      ]
     },
     "execution_count": 63,
     "metadata": {},
     "output_type": "execute_result"
    }
   ],
   "source": [
    "ann_2_adam_pca.evaluate(test_X_pca, test_y)"
   ]
  },
  {
   "cell_type": "markdown",
   "metadata": {
    "id": "qpuZn0Ujj9_8"
   },
   "source": [
    "(d) I chose L2 regularization + PCA transformation. The results are summarized below:\n",
    "\n",
    "\n",
    "Category | Training Accuracy | Validation Accuracy | Test Accuracy | Run Time(seconds)\n",
    "--- | --- | --- | --- | ---\n",
    "1c: Hidden Layer=3 | 0.583 | 0.579 | 0.581 | 28.4\n",
    "1d: Hidden Layer=50 | 0.986 | 0.983 | 0.961 | 42.1\n",
    "2a: 1d + 15% dropout | 0.976 | 0.970 | 0.956 | 43.6\n",
    "2b: 1d + l2 | 0.988 | 0.988 | 0.962 | 78.9\n",
    "2c: 1d + pca | 0.981 | 0.980 | 0.955 | 24.2\n",
    "2d: 1d + l2 + pca | 0.986 | 0.9802 | 0.958 | 28.6\n",
    "\n",
    "Overall the combination of L2 regularization and PCA data transformation gives very good results. The training is faster than both 1d and 2b cases. The accuracies are also very decent. In general this approach combines the benefits of both L2 regularization and the PCA transformation."
   ]
  },
  {
   "cell_type": "code",
   "execution_count": 66,
   "metadata": {
    "colab": {
     "base_uri": "https://localhost:8080/"
    },
    "id": "MURZcDplgziG",
    "outputId": "1d37e966-7f08-48d1-a435-390f1b5fca11"
   },
   "outputs": [
    {
     "name": "stderr",
     "output_type": "stream",
     "text": [
      "  0%|          | 0/50 [00:00<?, ?it/s]<ipython-input-40-58e0eb1bad63>:137: UserWarning: To copy construct from a tensor, it is recommended to use sourceTensor.clone().detach() or sourceTensor.clone().detach().requires_grad_(True), rather than torch.tensor(sourceTensor).\n",
      "  inputs = torch.tensor(inputs).float().clone().detach()\n",
      "<ipython-input-40-58e0eb1bad63>:138: UserWarning: To copy construct from a tensor, it is recommended to use sourceTensor.clone().detach() or sourceTensor.clone().detach().requires_grad_(True), rather than torch.tensor(sourceTensor).\n",
      "  outputs = torch.tensor(outputs).long().clone().detach()\n",
      "  2%|▏         | 1/50 [00:00<00:30,  1.60it/s]"
     ]
    },
    {
     "name": "stdout",
     "output_type": "stream",
     "text": [
      "Epoch 1/50 - Loss: 1.482 - Acc: 0.981\n",
      "              Val_loss: 1.474 - Val_acc: 0.984\n"
     ]
    },
    {
     "name": "stderr",
     "output_type": "stream",
     "text": [
      " 22%|██▏       | 11/50 [00:07<00:22,  1.77it/s]"
     ]
    },
    {
     "name": "stdout",
     "output_type": "stream",
     "text": [
      "Epoch 11/50 - Loss: 1.475 - Acc: 0.985\n",
      "              Val_loss: 1.475 - Val_acc: 0.984\n"
     ]
    },
    {
     "name": "stderr",
     "output_type": "stream",
     "text": [
      " 42%|████▏     | 21/50 [00:12<00:15,  1.85it/s]"
     ]
    },
    {
     "name": "stdout",
     "output_type": "stream",
     "text": [
      "Epoch 21/50 - Loss: 1.474 - Acc: 0.986\n",
      "              Val_loss: 1.479 - Val_acc: 0.982\n"
     ]
    },
    {
     "name": "stderr",
     "output_type": "stream",
     "text": [
      " 62%|██████▏   | 31/50 [00:18<00:10,  1.78it/s]"
     ]
    },
    {
     "name": "stdout",
     "output_type": "stream",
     "text": [
      "Epoch 31/50 - Loss: 1.474 - Acc: 0.986\n",
      "              Val_loss: 1.484 - Val_acc: 0.979\n"
     ]
    },
    {
     "name": "stderr",
     "output_type": "stream",
     "text": [
      " 82%|████████▏ | 41/50 [00:24<00:05,  1.75it/s]"
     ]
    },
    {
     "name": "stdout",
     "output_type": "stream",
     "text": [
      "Epoch 41/50 - Loss: 1.474 - Acc: 0.986\n",
      "              Val_loss: 1.488 - Val_acc: 0.977\n"
     ]
    },
    {
     "name": "stderr",
     "output_type": "stream",
     "text": []
    },
    {
     "name": "stdout",
     "output_type": "stream",
     "text": [
      "func:'train'  took: 30.1707 sec\n"
     ]
    },
    {
     "name": "stderr",
     "output_type": "stream",
     "text": [
      "  2%|▏         | 1/50 [00:00<00:27,  1.81it/s]"
     ]
    },
    {
     "name": "stdout",
     "output_type": "stream",
     "text": [
      "Epoch 1/50 - Loss: 1.483 - Acc: 0.981\n",
      "              Val_loss: 1.475 - Val_acc: 0.985\n"
     ]
    },
    {
     "name": "stderr",
     "output_type": "stream",
     "text": [
      " 22%|██▏       | 11/50 [00:06<00:21,  1.78it/s]"
     ]
    },
    {
     "name": "stdout",
     "output_type": "stream",
     "text": [
      "Epoch 11/50 - Loss: 1.475 - Acc: 0.985\n",
      "              Val_loss: 1.475 - Val_acc: 0.985\n"
     ]
    },
    {
     "name": "stderr",
     "output_type": "stream",
     "text": [
      " 42%|████▏     | 21/50 [00:12<00:17,  1.66it/s]"
     ]
    },
    {
     "name": "stdout",
     "output_type": "stream",
     "text": [
      "Epoch 21/50 - Loss: 1.474 - Acc: 0.986\n",
      "              Val_loss: 1.478 - Val_acc: 0.984\n"
     ]
    },
    {
     "name": "stderr",
     "output_type": "stream",
     "text": [
      " 62%|██████▏   | 31/50 [00:18<00:10,  1.74it/s]"
     ]
    },
    {
     "name": "stdout",
     "output_type": "stream",
     "text": [
      "Epoch 31/50 - Loss: 1.474 - Acc: 0.986\n",
      "              Val_loss: 1.483 - Val_acc: 0.981\n"
     ]
    },
    {
     "name": "stderr",
     "output_type": "stream",
     "text": [
      " 82%|████████▏ | 41/50 [00:24<00:05,  1.65it/s]"
     ]
    },
    {
     "name": "stdout",
     "output_type": "stream",
     "text": [
      "Epoch 41/50 - Loss: 1.474 - Acc: 0.987\n",
      "              Val_loss: 1.487 - Val_acc: 0.978\n"
     ]
    },
    {
     "name": "stderr",
     "output_type": "stream",
     "text": []
    },
    {
     "name": "stdout",
     "output_type": "stream",
     "text": [
      "func:'train'  took: 29.7061 sec\n"
     ]
    },
    {
     "name": "stderr",
     "output_type": "stream",
     "text": [
      "  2%|▏         | 1/50 [00:00<00:25,  1.89it/s]"
     ]
    },
    {
     "name": "stdout",
     "output_type": "stream",
     "text": [
      "Epoch 1/50 - Loss: 1.483 - Acc: 0.980\n",
      "              Val_loss: 1.472 - Val_acc: 0.989\n"
     ]
    },
    {
     "name": "stderr",
     "output_type": "stream",
     "text": [
      " 22%|██▏       | 11/50 [00:06<00:23,  1.66it/s]"
     ]
    },
    {
     "name": "stdout",
     "output_type": "stream",
     "text": [
      "Epoch 11/50 - Loss: 1.475 - Acc: 0.985\n",
      "              Val_loss: 1.472 - Val_acc: 0.989\n"
     ]
    },
    {
     "name": "stderr",
     "output_type": "stream",
     "text": [
      " 42%|████▏     | 21/50 [00:12<00:15,  1.87it/s]"
     ]
    },
    {
     "name": "stdout",
     "output_type": "stream",
     "text": [
      "Epoch 21/50 - Loss: 1.475 - Acc: 0.985\n",
      "              Val_loss: 1.476 - Val_acc: 0.987\n"
     ]
    },
    {
     "name": "stderr",
     "output_type": "stream",
     "text": [
      " 62%|██████▏   | 31/50 [00:18<00:12,  1.49it/s]"
     ]
    },
    {
     "name": "stdout",
     "output_type": "stream",
     "text": [
      "Epoch 31/50 - Loss: 1.475 - Acc: 0.986\n",
      "              Val_loss: 1.480 - Val_acc: 0.984\n"
     ]
    },
    {
     "name": "stderr",
     "output_type": "stream",
     "text": [
      " 82%|████████▏ | 41/50 [00:23<00:04,  1.86it/s]"
     ]
    },
    {
     "name": "stdout",
     "output_type": "stream",
     "text": [
      "Epoch 41/50 - Loss: 1.474 - Acc: 0.986\n",
      "              Val_loss: 1.484 - Val_acc: 0.982\n"
     ]
    },
    {
     "name": "stderr",
     "output_type": "stream",
     "text": [
      "                                               "
     ]
    },
    {
     "name": "stdout",
     "output_type": "stream",
     "text": [
      "func:'train'  took: 28.6386 sec\n"
     ]
    },
    {
     "name": "stderr",
     "output_type": "stream",
     "text": [
      "\r"
     ]
    }
   ],
   "source": [
    "ann_2_adam_l2_pca = Trainer(MLP2_pca, \"adam\", 2e-3, 50, 128, input_transform=lambda x: x,)\n",
    "\n",
    "# Split the dataset into 3-fold training and validation sets\n",
    "training_result_all = []\n",
    "kf = KFold(n_splits=3, shuffle=True, random_state=1)\n",
    "for train_index, val_index in kf.split(train_X_pca, train_y):\n",
    "    X_train, X_val = train_X_pca[train_index], train_X_pca[val_index]\n",
    "    y_train, y_val = train_y[train_index], train_y[val_index]\n",
    "\n",
    "    training_result = ann_2_adam_l2_pca.train(X_train, y_train, X_val, y_val, \\\n",
    "                     early_stop=False, l2=True, silent=False)\n",
    "    training_result_all.append(training_result)"
   ]
  },
  {
   "cell_type": "code",
   "execution_count": 68,
   "metadata": {
    "colab": {
     "base_uri": "https://localhost:8080/"
    },
    "id": "NjQbGpZgkttf",
    "outputId": "e69fb5ee-95db-489e-f151-9c99888f83d1"
   },
   "outputs": [
    {
     "name": "stdout",
     "output_type": "stream",
     "text": [
      "Accuracy: 0.9577000141143799\n"
     ]
    },
    {
     "data": {
      "text/plain": [
       "(tensor(1.5090), tensor(0.9577))"
      ]
     },
     "execution_count": 68,
     "metadata": {},
     "output_type": "execute_result"
    }
   ],
   "source": [
    "ann_2_adam_l2_pca.evaluate(test_X_pca, test_y)"
   ]
  }
 ],
 "metadata": {
  "colab": {
   "provenance": []
  },
  "kernelspec": {
   "display_name": "Python 3 (ipykernel)",
   "language": "python",
   "name": "python3"
  },
  "language_info": {
   "codemirror_mode": {
    "name": "ipython",
    "version": 3
   },
   "file_extension": ".py",
   "mimetype": "text/x-python",
   "name": "python",
   "nbconvert_exporter": "python",
   "pygments_lexer": "ipython3",
   "version": "3.9.12"
  }
 },
 "nbformat": 4,
 "nbformat_minor": 1
}

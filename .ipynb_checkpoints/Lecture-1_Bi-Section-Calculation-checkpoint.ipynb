{
 "cells": [
  {
   "cell_type": "markdown",
   "id": "58b656af",
   "metadata": {},
   "source": [
    "Given step number, output list of search space.\n",
    "Aimed at looking for the local minima in a 0th order curve, with f(x) as a function of x. Given a bracket of [a, b, c], three pre-requisites are: \n",
    "    1) x= a < b < c, whereas f(b) < f(a) and f(b) < f(c); \n",
    "    2) new bi-section point should always be within the larger interval of the triplet bracket; \n",
    "    3) when the two intervals are the same, new point is chosen between the larger two points."
   ]
  },
  {
   "cell_type": "markdown",
   "id": "00fdf38c",
   "metadata": {},
   "source": [
    "1. low < b(x1) < upper, fb > fu, fb > fl\n",
    "2. new point d (x2), b(x1) < d(x2), fx1 > fx2\n",
    "3. original search space is [low, b(x1), upper], new is [low, b(x1), d(x2)]"
   ]
  },
  {
   "cell_type": "markdown",
   "id": "e2fafb8d",
   "metadata": {},
   "source": [
    "1. low < b(x2) < upper, fb > fu, fb > fl\n",
    "2. new point d (x1), d(x1) < b(x2), fx1 > fx2\n",
    "3. original search space is [low, b(x1), upper], new is [d(x1), b(x2), upper]"
   ]
  },
  {
   "cell_type": "code",
   "execution_count": 68,
   "id": "286e95bc",
   "metadata": {},
   "outputs": [],
   "source": [
    "import math\n",
    "def search_space_list(bracket):\n",
    "    \"\"\"\n",
    "    step is an input integer, indicating which step of bisection is currently at.\n",
    "    bracket is an triplet input list of three floats, indicating the triplet bracket.\n",
    "    \n",
    "    \"\"\"\n",
    "    search_space = []\n",
    "    a = bracket[0]\n",
    "    b = bracket[1]\n",
    "    c = bracket[2]\n",
    "    delta_1 = b-a\n",
    "    delta_2 = c-b\n",
    "    bracket_1 = []\n",
    "    bracket_2 = []\n",
    "    if delta_1 == delta_2:\n",
    "        d = (b+c)/2\n",
    "        bracket_1 = [a, b, d]\n",
    "        bracket_2 = [b, d, c]\n",
    "        search_space.append(c-b)\n",
    "        search_space.append(d-a)\n",
    "    elif delta_1 > delta_2:\n",
    "        d = (a + b) / 2\n",
    "        bracket_1 = [a, d, b]\n",
    "        bracket_2 = [d, b, c]\n",
    "        search_space.append(c-d)\n",
    "        search_space.append(b-a)\n",
    "    return search_space, d, bracket_1, bracket_2"
   ]
  },
  {
   "cell_type": "code",
   "execution_count": 69,
   "id": "6181a74c",
   "metadata": {},
   "outputs": [
    {
     "name": "stdout",
     "output_type": "stream",
     "text": [
      "[0.5, 0.75] 0.625 0.75 [0, 0.5, 0.75] [0.5, 0.75, 1.0]\n"
     ]
    }
   ],
   "source": [
    "search_space_step1, d, bracket_1, bracket_2 = search_space_list([0, 0.5, 1.0])\n",
    "print(search_space_step1, sum(search_space_step1)/len(search_space_step1), d, bracket_1, bracket_2)"
   ]
  },
  {
   "cell_type": "code",
   "execution_count": 80,
   "id": "ee6ceb8f",
   "metadata": {},
   "outputs": [],
   "source": [
    "bracket = [0, 0.5, 1.0]\n",
    "search_space_total = []"
   ]
  },
  {
   "cell_type": "code",
   "execution_count": 81,
   "id": "f35cf1b5",
   "metadata": {},
   "outputs": [
    {
     "name": "stdout",
     "output_type": "stream",
     "text": [
      "At step 1, the search spaces are:\n",
      "[0.5, 0.75]\n",
      "Average search space at step 1 is 0.625\n",
      "[0, 0.5, 0.75] [0.5, 0.75, 1.0]\n"
     ]
    }
   ],
   "source": [
    "step = 1\n",
    "print(f\"At step {step}, the search spaces are:\")\n",
    "search_space_step, d, bracket_left, bracket_right = search_space_list(bracket)\n",
    "print(search_space_step)\n",
    "search_space_total.append(search_space_step)\n",
    "print(f\"Average search space at step {step} is {sum(search_space_step)/len(search_space_step)}\")\n",
    "print(bracket_left, bracket_right)"
   ]
  },
  {
   "cell_type": "code",
   "execution_count": 82,
   "id": "c4016c28",
   "metadata": {},
   "outputs": [
    {
     "name": "stdout",
     "output_type": "stream",
     "text": [
      "At step 2, the search spaces are:\n",
      "[0.5, 0.5] 0.5\n",
      "[0.25, 0.375] 0.3125\n",
      "[0, 0.25, 0.5] [0.25, 0.5, 0.75] [0.5, 0.75, 0.875] [0.75, 0.875, 1.0]\n"
     ]
    }
   ],
   "source": [
    "step = 2\n",
    "print(f\"At step {step}, the search spaces are:\")\n",
    "search_space_step_1, d, bracket_2_1, bracket_2_2 = search_space_list(bracket_left)\n",
    "print(search_space_step_1, sum(search_space_step_1)/len(search_space_step_1))\n",
    "search_space_step_2, d, bracket_2_3, bracket_2_4 = search_space_list(bracket_right)\n",
    "print(search_space_step_2, sum(search_space_step_2)/len(search_space_step_2))\n",
    "search_space_total.append(search_space_step_1)\n",
    "search_space_total.append(search_space_step_2)\n",
    "print(bracket_2_1, bracket_2_2, bracket_2_3, bracket_2_4)"
   ]
  },
  {
   "cell_type": "code",
   "execution_count": 83,
   "id": "72545606",
   "metadata": {},
   "outputs": [
    {
     "name": "stdout",
     "output_type": "stream",
     "text": [
      "At step 3, the search spaces are:\n",
      "[0.25, 0.375] 0.3125\n",
      "[0.25, 0.375] 0.3125\n",
      "[0.25, 0.25] 0.25\n",
      "[0.125, 0.1875] 0.15625\n"
     ]
    }
   ],
   "source": [
    "step = 3\n",
    "print(f\"At step {step}, the search spaces are:\")\n",
    "search_space_step_3, d, bracket_3_1, bracket_3_2 = search_space_list(bracket_2_1)\n",
    "print(search_space_step_3, sum(search_space_step_3)/len(search_space_step_3))\n",
    "search_space_step_4, d, bracket_3_3, bracket_3_4 = search_space_list(bracket_2_2)\n",
    "print(search_space_step_4, sum(search_space_step_4)/len(search_space_step_4))\n",
    "search_space_step_5, d, bracket_3_5, bracket_3_6 = search_space_list(bracket_2_3)\n",
    "print(search_space_step_5, sum(search_space_step_5)/len(search_space_step_5))\n",
    "search_space_step_6, d, bracket_3_7, bracket_3_8 = search_space_list(bracket_2_4)\n",
    "print(search_space_step_6, sum(search_space_step_6)/len(search_space_step_6))\n",
    "search_space_total.append(search_space_step_3)\n",
    "search_space_total.append(search_space_step_4)\n",
    "search_space_total.append(search_space_step_5)\n",
    "search_space_total.append(search_space_step_6)"
   ]
  },
  {
   "cell_type": "code",
   "execution_count": 89,
   "id": "828792ce",
   "metadata": {},
   "outputs": [
    {
     "name": "stdout",
     "output_type": "stream",
     "text": [
      "At step 4, the search spaces are:\n",
      "[0.25, 0.25] 0.25\n",
      "[0.125, 0.1875] 0.15625\n",
      "[0.25, 0.25] 0.25\n",
      "[0.125, 0.1875] 0.15625\n",
      "[0.125, 0.1875] 0.15625\n",
      "[0.125, 0.1875] 0.15625\n",
      "[0.125, 0.125] 0.125\n",
      "[0.0625, 0.09375] 0.078125\n",
      "0.166015625\n"
     ]
    }
   ],
   "source": [
    "step = 4\n",
    "print(f\"At step {step}, the search spaces are:\")\n",
    "step_4_avg = 0\n",
    "search_space_step_7, d, bracket_4_1, bracket_4_2 = search_space_list(bracket_3_1)\n",
    "print(search_space_step_7, sum(search_space_step_7)/len(search_space_step_7))\n",
    "step_4_avg += sum(search_space_step_7)/len(search_space_step_7)\n",
    "search_space_step_8, d, bracket_4_3, bracket_4_4 = search_space_list(bracket_3_2)\n",
    "print(search_space_step_8, sum(search_space_step_8)/len(search_space_step_8))\n",
    "step_4_avg += sum(search_space_step_8)/len(search_space_step_8)\n",
    "search_space_step_9, d, bracket_4_5, bracket_4_6 = search_space_list(bracket_3_3)\n",
    "print(search_space_step_9, sum(search_space_step_9)/len(search_space_step_9))\n",
    "step_4_avg += sum(search_space_step_9)/len(search_space_step_9)\n",
    "search_space_step_10, d, bracket_4_7, bracket_4_8 = search_space_list(bracket_3_4)\n",
    "print(search_space_step_10, sum(search_space_step_10)/len(search_space_step_10))\n",
    "step_4_avg += sum(search_space_step_10)/len(search_space_step_10)\n",
    "search_space_step_11, d, bracket_4_9, bracket_4_10 = search_space_list(bracket_3_5)\n",
    "print(search_space_step_11, sum(search_space_step_11)/len(search_space_step_11))\n",
    "step_4_avg += sum(search_space_step_11)/len(search_space_step_11)\n",
    "search_space_step_12, d, bracket_4_11, bracket_4_12 = search_space_list(bracket_3_6)\n",
    "print(search_space_step_12, sum(search_space_step_12)/len(search_space_step_12))\n",
    "step_4_avg += sum(search_space_step_12)/len(search_space_step_12)\n",
    "search_space_step_13, d, bracket_4_13, bracket_4_14 = search_space_list(bracket_3_7)\n",
    "print(search_space_step_13, sum(search_space_step_13)/len(search_space_step_13))\n",
    "step_4_avg += sum(search_space_step_13)/len(search_space_step_13)\n",
    "search_space_step_14, d, bracket_4_15, bracket_4_16 = search_space_list(bracket_3_8)\n",
    "print(search_space_step_14, sum(search_space_step_14)/len(search_space_step_14))\n",
    "step_4_avg += sum(search_space_step_14)/len(search_space_step_14)\n",
    "search_space_total.append(search_space_step_7)\n",
    "search_space_total.append(search_space_step_8)\n",
    "search_space_total.append(search_space_step_9)\n",
    "search_space_total.append(search_space_step_10)\n",
    "search_space_total.append(search_space_step_11)\n",
    "search_space_total.append(search_space_step_12)\n",
    "search_space_total.append(search_space_step_13)\n",
    "search_space_total.append(search_space_step_14)\n",
    "print(step_4_avg/8)"
   ]
  },
  {
   "cell_type": "code",
   "execution_count": 88,
   "id": "8999164c",
   "metadata": {},
   "outputs": [
    {
     "name": "stdout",
     "output_type": "stream",
     "text": [
      "[[0.5, 0.75], [0.5, 0.5], [0.25, 0.375], [0.25, 0.375], [0.25, 0.375], [0.25, 0.25], [0.125, 0.1875], [0.25, 0.25], [0.125, 0.1875], [0.25, 0.25], [0.125, 0.1875], [0.125, 0.1875], [0.125, 0.1875], [0.125, 0.125], [0.0625, 0.09375]]\n",
      "[0.5, 0.75]\n",
      "[0.5, 0.5]\n",
      "[0.25, 0.375]\n",
      "[0.25, 0.375]\n",
      "[0.25, 0.375]\n",
      "[0.25, 0.25]\n",
      "[0.125, 0.1875]\n",
      "[0.25, 0.25]\n"
     ]
    }
   ],
   "source": [
    "print(search_space_total)\n",
    "j = 0\n",
    "for i in range(step):\n",
    "    while j < math.pow(2, i):\n",
    "        print(search_space_total[j])\n",
    "        j += 1"
   ]
  },
  {
   "cell_type": "code",
   "execution_count": null,
   "id": "3ce9074b",
   "metadata": {},
   "outputs": [],
   "source": []
  }
 ],
 "metadata": {
  "kernelspec": {
   "display_name": "Python 3 (ipykernel)",
   "language": "python",
   "name": "python3"
  },
  "language_info": {
   "codemirror_mode": {
    "name": "ipython",
    "version": 3
   },
   "file_extension": ".py",
   "mimetype": "text/x-python",
   "name": "python",
   "nbconvert_exporter": "python",
   "pygments_lexer": "ipython3",
   "version": "3.10.6"
  }
 },
 "nbformat": 4,
 "nbformat_minor": 5
}
